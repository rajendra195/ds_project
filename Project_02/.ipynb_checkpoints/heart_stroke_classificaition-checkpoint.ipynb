{
 "cells": [
  {
   "cell_type": "markdown",
   "metadata": {
    "id": "kt9Dsw4pNxrL"
   },
   "source": [
    "# Data Understanding"
   ]
  },
  {
   "cell_type": "markdown",
   "metadata": {
    "id": "qebqtOrln4Z_"
   },
   "source": [
    "## Data Ingestion"
   ]
  },
  {
   "cell_type": "markdown",
   "metadata": {
    "id": "D5AfDboxn4aA"
   },
   "source": [
    "**[Term] Data Ingestion**\n",
    "\n",
    "Data ingestion is the process of obtaining and importing data for immediate use or storage."
   ]
  },
  {
   "cell_type": "markdown",
   "metadata": {
    "id": "Xlszj9Gkn4aA"
   },
   "source": [
    "For this session we'll \"ingest\" the data from google drive and save it as a csv file using the following code"
   ]
  },
  {
   "cell_type": "code",
   "execution_count": 1,
   "metadata": {},
   "outputs": [],
   "source": [
    "# !pip install gdown"
   ]
  },
  {
   "cell_type": "code",
   "execution_count": 2,
   "metadata": {
    "id": "zlG9S61eRpUC"
   },
   "outputs": [
    {
     "name": "stderr",
     "output_type": "stream",
     "text": [
      "Downloading...\n",
      "From: https://drive.google.com/u/1/uc?id=1Wt1eQkZz76gqRL9h8R6FOEPH3eLsbLsA&export=download\n",
      "To: /media/rajendra_/A0A80645A8061A84/Data science/Project/Project_02/healthcare-dataset-stroke-data.csv\n",
      "100%|██████████| 317k/317k [00:00<00:00, 1.78MB/s]\n"
     ]
    },
    {
     "data": {
      "text/plain": [
       "'healthcare-dataset-stroke-data.csv'"
      ]
     },
     "execution_count": 2,
     "metadata": {},
     "output_type": "execute_result"
    }
   ],
   "source": [
    "import gdown\n",
    "\n",
    "dataset_url = \"https://drive.google.com/u/1/uc?id=1Wt1eQkZz76gqRL9h8R6FOEPH3eLsbLsA&export=download\"\n",
    "filename = \"healthcare-dataset-stroke-data.csv\"\n",
    "gdown.download(dataset_url, filename)"
   ]
  },
  {
   "cell_type": "code",
   "execution_count": 3,
   "metadata": {
    "id": "lkl-M_wfn4aE"
   },
   "outputs": [],
   "source": [
    "import numpy as np\n",
    "import pandas as pd"
   ]
  },
  {
   "cell_type": "code",
   "execution_count": 4,
   "metadata": {
    "id": "cCdvEXt4Utpc"
   },
   "outputs": [
    {
     "data": {
      "text/html": [
       "<div>\n",
       "<style scoped>\n",
       "    .dataframe tbody tr th:only-of-type {\n",
       "        vertical-align: middle;\n",
       "    }\n",
       "\n",
       "    .dataframe tbody tr th {\n",
       "        vertical-align: top;\n",
       "    }\n",
       "\n",
       "    .dataframe thead th {\n",
       "        text-align: right;\n",
       "    }\n",
       "</style>\n",
       "<table border=\"1\" class=\"dataframe\">\n",
       "  <thead>\n",
       "    <tr style=\"text-align: right;\">\n",
       "      <th></th>\n",
       "      <th>id</th>\n",
       "      <th>gender</th>\n",
       "      <th>age</th>\n",
       "      <th>hypertension</th>\n",
       "      <th>heart_disease</th>\n",
       "      <th>ever_married</th>\n",
       "      <th>work_type</th>\n",
       "      <th>Residence_type</th>\n",
       "      <th>avg_glucose_level</th>\n",
       "      <th>bmi</th>\n",
       "      <th>smoking_status</th>\n",
       "      <th>stroke</th>\n",
       "    </tr>\n",
       "  </thead>\n",
       "  <tbody>\n",
       "    <tr>\n",
       "      <th>0</th>\n",
       "      <td>9046</td>\n",
       "      <td>Male</td>\n",
       "      <td>67.0</td>\n",
       "      <td>0</td>\n",
       "      <td>1</td>\n",
       "      <td>Yes</td>\n",
       "      <td>Private</td>\n",
       "      <td>Urban</td>\n",
       "      <td>228.69</td>\n",
       "      <td>36.6</td>\n",
       "      <td>formerly smoked</td>\n",
       "      <td>1</td>\n",
       "    </tr>\n",
       "    <tr>\n",
       "      <th>1</th>\n",
       "      <td>51676</td>\n",
       "      <td>Female</td>\n",
       "      <td>61.0</td>\n",
       "      <td>0</td>\n",
       "      <td>0</td>\n",
       "      <td>Yes</td>\n",
       "      <td>Self-employed</td>\n",
       "      <td>Rural</td>\n",
       "      <td>202.21</td>\n",
       "      <td>NaN</td>\n",
       "      <td>never smoked</td>\n",
       "      <td>1</td>\n",
       "    </tr>\n",
       "    <tr>\n",
       "      <th>2</th>\n",
       "      <td>31112</td>\n",
       "      <td>Male</td>\n",
       "      <td>80.0</td>\n",
       "      <td>0</td>\n",
       "      <td>1</td>\n",
       "      <td>Yes</td>\n",
       "      <td>Private</td>\n",
       "      <td>Rural</td>\n",
       "      <td>105.92</td>\n",
       "      <td>32.5</td>\n",
       "      <td>never smoked</td>\n",
       "      <td>1</td>\n",
       "    </tr>\n",
       "    <tr>\n",
       "      <th>3</th>\n",
       "      <td>60182</td>\n",
       "      <td>Female</td>\n",
       "      <td>49.0</td>\n",
       "      <td>0</td>\n",
       "      <td>0</td>\n",
       "      <td>Yes</td>\n",
       "      <td>Private</td>\n",
       "      <td>Urban</td>\n",
       "      <td>171.23</td>\n",
       "      <td>34.4</td>\n",
       "      <td>smokes</td>\n",
       "      <td>1</td>\n",
       "    </tr>\n",
       "    <tr>\n",
       "      <th>4</th>\n",
       "      <td>1665</td>\n",
       "      <td>Female</td>\n",
       "      <td>79.0</td>\n",
       "      <td>1</td>\n",
       "      <td>0</td>\n",
       "      <td>Yes</td>\n",
       "      <td>Self-employed</td>\n",
       "      <td>Rural</td>\n",
       "      <td>174.12</td>\n",
       "      <td>24.0</td>\n",
       "      <td>never smoked</td>\n",
       "      <td>1</td>\n",
       "    </tr>\n",
       "  </tbody>\n",
       "</table>\n",
       "</div>"
      ],
      "text/plain": [
       "      id  gender   age  hypertension  heart_disease ever_married  \\\n",
       "0   9046    Male  67.0             0              1          Yes   \n",
       "1  51676  Female  61.0             0              0          Yes   \n",
       "2  31112    Male  80.0             0              1          Yes   \n",
       "3  60182  Female  49.0             0              0          Yes   \n",
       "4   1665  Female  79.0             1              0          Yes   \n",
       "\n",
       "       work_type Residence_type  avg_glucose_level   bmi   smoking_status  \\\n",
       "0        Private          Urban             228.69  36.6  formerly smoked   \n",
       "1  Self-employed          Rural             202.21   NaN     never smoked   \n",
       "2        Private          Rural             105.92  32.5     never smoked   \n",
       "3        Private          Urban             171.23  34.4           smokes   \n",
       "4  Self-employed          Rural             174.12  24.0     never smoked   \n",
       "\n",
       "   stroke  \n",
       "0       1  \n",
       "1       1  \n",
       "2       1  \n",
       "3       1  \n",
       "4       1  "
      ]
     },
     "execution_count": 4,
     "metadata": {},
     "output_type": "execute_result"
    }
   ],
   "source": [
    "df = pd.read_csv(filename)\n",
    "df.head()"
   ]
  },
  {
   "cell_type": "markdown",
   "metadata": {
    "id": "U8_MhUvWn4aG"
   },
   "source": [
    "We can call the `info()` method of the dataframe to print it's information including the index (#), datatype (dtype) and columns, non-null values (will be discussed later) and memory usage."
   ]
  },
  {
   "cell_type": "code",
   "execution_count": 5,
   "metadata": {
    "id": "PUigiQeDZpQt"
   },
   "outputs": [
    {
     "name": "stdout",
     "output_type": "stream",
     "text": [
      "<class 'pandas.core.frame.DataFrame'>\n",
      "RangeIndex: 5110 entries, 0 to 5109\n",
      "Data columns (total 12 columns):\n",
      " #   Column             Non-Null Count  Dtype  \n",
      "---  ------             --------------  -----  \n",
      " 0   id                 5110 non-null   int64  \n",
      " 1   gender             5110 non-null   object \n",
      " 2   age                5110 non-null   float64\n",
      " 3   hypertension       5110 non-null   int64  \n",
      " 4   heart_disease      5110 non-null   int64  \n",
      " 5   ever_married       5110 non-null   object \n",
      " 6   work_type          5110 non-null   object \n",
      " 7   Residence_type     5110 non-null   object \n",
      " 8   avg_glucose_level  5110 non-null   float64\n",
      " 9   bmi                4909 non-null   float64\n",
      " 10  smoking_status     5110 non-null   object \n",
      " 11  stroke             5110 non-null   int64  \n",
      "dtypes: float64(3), int64(4), object(5)\n",
      "memory usage: 479.2+ KB\n"
     ]
    }
   ],
   "source": [
    "##  info() method to print dataframe information\n",
    "df.info()\n"
   ]
  },
  {
   "cell_type": "markdown",
   "metadata": {},
   "source": [
    "* From the above information DataFrame contains total 12 columns and 5110 rows, we can see some missing values in bmi, and datatypes of columns contains 3 float64, 4 int64 and 5 objects"
   ]
  },
  {
   "cell_type": "markdown",
   "metadata": {
    "id": "6fbUr83GaaAB"
   },
   "source": [
    "## Exploratory Data Analysis and Data Cleaning"
   ]
  },
  {
   "cell_type": "markdown",
   "metadata": {
    "id": "HXQB9iK8n4aH"
   },
   "source": [
    "**[Term] Exploratory Data Analysis (EDA)**\n",
    "\n",
    "EDA is an approach of analyzing data sets to summarize their main characteristics"
   ]
  },
  {
   "cell_type": "markdown",
   "metadata": {
    "id": "bZyNzAKcn4aI"
   },
   "source": [
    "**[Term] Data Cleaning**\n",
    "\n",
    "Data cleaning is the process of detecting and correcting corrupt or inaccurate records from a record set, table, or database and refers to identifying incomplete, incorrect, inaccurate or irrelevant parts of the data and then replacing, modifying, or deleting the dirty or coarse data."
   ]
  },
  {
   "cell_type": "markdown",
   "metadata": {
    "id": "bhVqzHqCn4aI"
   },
   "source": [
    "### Missing Data"
   ]
  },
  {
   "cell_type": "code",
   "execution_count": 6,
   "metadata": {
    "id": "HheSbC1sC1wn"
   },
   "outputs": [
    {
     "data": {
      "text/html": [
       "<div>\n",
       "<style scoped>\n",
       "    .dataframe tbody tr th:only-of-type {\n",
       "        vertical-align: middle;\n",
       "    }\n",
       "\n",
       "    .dataframe tbody tr th {\n",
       "        vertical-align: top;\n",
       "    }\n",
       "\n",
       "    .dataframe thead th {\n",
       "        text-align: right;\n",
       "    }\n",
       "</style>\n",
       "<table border=\"1\" class=\"dataframe\">\n",
       "  <thead>\n",
       "    <tr style=\"text-align: right;\">\n",
       "      <th></th>\n",
       "      <th>id</th>\n",
       "      <th>gender</th>\n",
       "      <th>age</th>\n",
       "      <th>hypertension</th>\n",
       "      <th>heart_disease</th>\n",
       "      <th>ever_married</th>\n",
       "      <th>work_type</th>\n",
       "      <th>Residence_type</th>\n",
       "      <th>avg_glucose_level</th>\n",
       "      <th>bmi</th>\n",
       "      <th>smoking_status</th>\n",
       "      <th>stroke</th>\n",
       "    </tr>\n",
       "  </thead>\n",
       "  <tbody>\n",
       "    <tr>\n",
       "      <th>0</th>\n",
       "      <td>False</td>\n",
       "      <td>False</td>\n",
       "      <td>False</td>\n",
       "      <td>False</td>\n",
       "      <td>False</td>\n",
       "      <td>False</td>\n",
       "      <td>False</td>\n",
       "      <td>False</td>\n",
       "      <td>False</td>\n",
       "      <td>False</td>\n",
       "      <td>False</td>\n",
       "      <td>False</td>\n",
       "    </tr>\n",
       "    <tr>\n",
       "      <th>1</th>\n",
       "      <td>False</td>\n",
       "      <td>False</td>\n",
       "      <td>False</td>\n",
       "      <td>False</td>\n",
       "      <td>False</td>\n",
       "      <td>False</td>\n",
       "      <td>False</td>\n",
       "      <td>False</td>\n",
       "      <td>False</td>\n",
       "      <td>True</td>\n",
       "      <td>False</td>\n",
       "      <td>False</td>\n",
       "    </tr>\n",
       "    <tr>\n",
       "      <th>2</th>\n",
       "      <td>False</td>\n",
       "      <td>False</td>\n",
       "      <td>False</td>\n",
       "      <td>False</td>\n",
       "      <td>False</td>\n",
       "      <td>False</td>\n",
       "      <td>False</td>\n",
       "      <td>False</td>\n",
       "      <td>False</td>\n",
       "      <td>False</td>\n",
       "      <td>False</td>\n",
       "      <td>False</td>\n",
       "    </tr>\n",
       "    <tr>\n",
       "      <th>3</th>\n",
       "      <td>False</td>\n",
       "      <td>False</td>\n",
       "      <td>False</td>\n",
       "      <td>False</td>\n",
       "      <td>False</td>\n",
       "      <td>False</td>\n",
       "      <td>False</td>\n",
       "      <td>False</td>\n",
       "      <td>False</td>\n",
       "      <td>False</td>\n",
       "      <td>False</td>\n",
       "      <td>False</td>\n",
       "    </tr>\n",
       "    <tr>\n",
       "      <th>4</th>\n",
       "      <td>False</td>\n",
       "      <td>False</td>\n",
       "      <td>False</td>\n",
       "      <td>False</td>\n",
       "      <td>False</td>\n",
       "      <td>False</td>\n",
       "      <td>False</td>\n",
       "      <td>False</td>\n",
       "      <td>False</td>\n",
       "      <td>False</td>\n",
       "      <td>False</td>\n",
       "      <td>False</td>\n",
       "    </tr>\n",
       "    <tr>\n",
       "      <th>...</th>\n",
       "      <td>...</td>\n",
       "      <td>...</td>\n",
       "      <td>...</td>\n",
       "      <td>...</td>\n",
       "      <td>...</td>\n",
       "      <td>...</td>\n",
       "      <td>...</td>\n",
       "      <td>...</td>\n",
       "      <td>...</td>\n",
       "      <td>...</td>\n",
       "      <td>...</td>\n",
       "      <td>...</td>\n",
       "    </tr>\n",
       "    <tr>\n",
       "      <th>5105</th>\n",
       "      <td>False</td>\n",
       "      <td>False</td>\n",
       "      <td>False</td>\n",
       "      <td>False</td>\n",
       "      <td>False</td>\n",
       "      <td>False</td>\n",
       "      <td>False</td>\n",
       "      <td>False</td>\n",
       "      <td>False</td>\n",
       "      <td>True</td>\n",
       "      <td>False</td>\n",
       "      <td>False</td>\n",
       "    </tr>\n",
       "    <tr>\n",
       "      <th>5106</th>\n",
       "      <td>False</td>\n",
       "      <td>False</td>\n",
       "      <td>False</td>\n",
       "      <td>False</td>\n",
       "      <td>False</td>\n",
       "      <td>False</td>\n",
       "      <td>False</td>\n",
       "      <td>False</td>\n",
       "      <td>False</td>\n",
       "      <td>False</td>\n",
       "      <td>False</td>\n",
       "      <td>False</td>\n",
       "    </tr>\n",
       "    <tr>\n",
       "      <th>5107</th>\n",
       "      <td>False</td>\n",
       "      <td>False</td>\n",
       "      <td>False</td>\n",
       "      <td>False</td>\n",
       "      <td>False</td>\n",
       "      <td>False</td>\n",
       "      <td>False</td>\n",
       "      <td>False</td>\n",
       "      <td>False</td>\n",
       "      <td>False</td>\n",
       "      <td>False</td>\n",
       "      <td>False</td>\n",
       "    </tr>\n",
       "    <tr>\n",
       "      <th>5108</th>\n",
       "      <td>False</td>\n",
       "      <td>False</td>\n",
       "      <td>False</td>\n",
       "      <td>False</td>\n",
       "      <td>False</td>\n",
       "      <td>False</td>\n",
       "      <td>False</td>\n",
       "      <td>False</td>\n",
       "      <td>False</td>\n",
       "      <td>False</td>\n",
       "      <td>False</td>\n",
       "      <td>False</td>\n",
       "    </tr>\n",
       "    <tr>\n",
       "      <th>5109</th>\n",
       "      <td>False</td>\n",
       "      <td>False</td>\n",
       "      <td>False</td>\n",
       "      <td>False</td>\n",
       "      <td>False</td>\n",
       "      <td>False</td>\n",
       "      <td>False</td>\n",
       "      <td>False</td>\n",
       "      <td>False</td>\n",
       "      <td>False</td>\n",
       "      <td>False</td>\n",
       "      <td>False</td>\n",
       "    </tr>\n",
       "  </tbody>\n",
       "</table>\n",
       "<p>5110 rows × 12 columns</p>\n",
       "</div>"
      ],
      "text/plain": [
       "         id  gender    age  hypertension  heart_disease  ever_married  \\\n",
       "0     False   False  False         False          False         False   \n",
       "1     False   False  False         False          False         False   \n",
       "2     False   False  False         False          False         False   \n",
       "3     False   False  False         False          False         False   \n",
       "4     False   False  False         False          False         False   \n",
       "...     ...     ...    ...           ...            ...           ...   \n",
       "5105  False   False  False         False          False         False   \n",
       "5106  False   False  False         False          False         False   \n",
       "5107  False   False  False         False          False         False   \n",
       "5108  False   False  False         False          False         False   \n",
       "5109  False   False  False         False          False         False   \n",
       "\n",
       "      work_type  Residence_type  avg_glucose_level    bmi  smoking_status  \\\n",
       "0         False           False              False  False           False   \n",
       "1         False           False              False   True           False   \n",
       "2         False           False              False  False           False   \n",
       "3         False           False              False  False           False   \n",
       "4         False           False              False  False           False   \n",
       "...         ...             ...                ...    ...             ...   \n",
       "5105      False           False              False   True           False   \n",
       "5106      False           False              False  False           False   \n",
       "5107      False           False              False  False           False   \n",
       "5108      False           False              False  False           False   \n",
       "5109      False           False              False  False           False   \n",
       "\n",
       "      stroke  \n",
       "0      False  \n",
       "1      False  \n",
       "2      False  \n",
       "3      False  \n",
       "4      False  \n",
       "...      ...  \n",
       "5105   False  \n",
       "5106   False  \n",
       "5107   False  \n",
       "5108   False  \n",
       "5109   False  \n",
       "\n",
       "[5110 rows x 12 columns]"
      ]
     },
     "execution_count": 6,
     "metadata": {},
     "output_type": "execute_result"
    }
   ],
   "source": [
    "\n",
    "\n",
    "df.isnull()\n"
   ]
  },
  {
   "cell_type": "markdown",
   "metadata": {
    "id": "xHVnmmj-Fbqz"
   },
   "source": [
    "In the output above, `True` denotes a *null* value and `False` denotes a *non-null* value."
   ]
  },
  {
   "cell_type": "code",
   "execution_count": 7,
   "metadata": {
    "id": "Qf_y5Brpn4aJ"
   },
   "outputs": [
    {
     "data": {
      "text/plain": [
       "id                     0\n",
       "gender                 0\n",
       "age                    0\n",
       "hypertension           0\n",
       "heart_disease          0\n",
       "ever_married           0\n",
       "work_type              0\n",
       "Residence_type         0\n",
       "avg_glucose_level      0\n",
       "bmi                  201\n",
       "smoking_status         0\n",
       "stroke                 0\n",
       "dtype: int64"
      ]
     },
     "execution_count": 7,
     "metadata": {},
     "output_type": "execute_result"
    }
   ],
   "source": [
    "## Geting total missing values in each column (features)\n",
    "\n",
    "df.isnull().sum(axis=0)  # axis = 0 default\n"
   ]
  },
  {
   "cell_type": "markdown",
   "metadata": {
    "id": "DJQOhIuun4aK"
   },
   "source": [
    "\"bmi\" columns of the DataFrame contains 201 missing values."
   ]
  },
  {
   "cell_type": "markdown",
   "metadata": {},
   "source": [
    "##### Visualization"
   ]
  },
  {
   "cell_type": "code",
   "execution_count": 8,
   "metadata": {
    "id": "sfUw9sHRn4aM"
   },
   "outputs": [],
   "source": [
    "import matplotlib.pyplot as plt\n",
    "import seaborn as sns"
   ]
  },
  {
   "cell_type": "markdown",
   "metadata": {
    "id": "XaEqMH9Kn4aM"
   },
   "source": [
    "Let us now try to visualize where our missing values lie within the dataset"
   ]
  },
  {
   "cell_type": "code",
   "execution_count": null,
   "metadata": {
    "id": "SFpYGsKSaWsN"
   },
   "outputs": [
    {
     "ename": "",
     "evalue": "",
     "output_type": "error",
     "traceback": [
      "\u001b[1;31mFailed to start the Kernel. \n",
      "\u001b[1;31mUnable to start Kernel 'Python 3.10.12' due to a timeout waiting for the ports to get used. \n",
      "\u001b[1;31mView Jupyter <a href='command:jupyter.viewOutput'>log</a> for further details."
     ]
    }
   ],
   "source": [
    "plt.figure(figsize=(10, 10))\n",
    "plt.title(\"Visualizing Missing Values\")\n",
    "sns.heatmap(\n",
    "    df.isna().transpose(),\n",
    "    cmap=\"YlGnBu\",  # Set a yellow -> green -> blue color gradient\n",
    "    cbar_kws={\"label\": \"Missing Data\"}\n",
    ")\n",
    "plt.show()"
   ]
  },
  {
   "cell_type": "markdown",
   "metadata": {
    "id": "X9h0DMrhhGvF"
   },
   "source": [
    "<li>With the above visualization technique using seaborn heatmap, we can see bmi columns only contains missing values.</li>\n"
   ]
  },
  {
   "cell_type": "markdown",
   "metadata": {
    "id": "bkwSQQVVn4aN"
   },
   "source": [
    "### Univariate Analysis"
   ]
  },
  {
   "cell_type": "markdown",
   "metadata": {
    "id": "zPinwGWMn4aO"
   },
   "source": [
    "#### Categorical Variables"
   ]
  },
  {
   "cell_type": "markdown",
   "metadata": {
    "id": "Bbc_ege-n4aO"
   },
   "source": [
    "For a categorical variable we need to first count the number of data points in each category to analyze the data distribution."
   ]
  },
  {
   "cell_type": "markdown",
   "metadata": {
    "id": "2c3kDc8Tn4aO"
   },
   "source": [
    "#### gender"
   ]
  },
  {
   "cell_type": "code",
   "execution_count": null,
   "metadata": {
    "id": "XXReMeIqn4aO"
   },
   "outputs": [
    {
     "ename": "",
     "evalue": "",
     "output_type": "error",
     "traceback": [
      "\u001b[1;31mFailed to start the Kernel. \n",
      "\u001b[1;31mUnable to start Kernel 'Python 3.10.12' due to a timeout waiting for the ports to get used. \n",
      "\u001b[1;31mView Jupyter <a href='command:jupyter.viewOutput'>log</a> for further details."
     ]
    }
   ],
   "source": [
    "## Counting each category in the column named \"gender\"\n",
    "\n",
    "df[\"gender\"].value_counts()\n"
   ]
  },
  {
   "cell_type": "code",
   "execution_count": null,
   "metadata": {
    "id": "cgxZkxItn4aP"
   },
   "outputs": [
    {
     "ename": "",
     "evalue": "",
     "output_type": "error",
     "traceback": [
      "\u001b[1;31mFailed to start the Kernel. \n",
      "\u001b[1;31mUnable to start Kernel 'Python 3.10.12' due to a timeout waiting for the ports to get used. \n",
      "\u001b[1;31mView Jupyter <a href='command:jupyter.viewOutput'>log</a> for further details."
     ]
    }
   ],
   "source": [
    "## Visualizing the `value_counts()` using the piechart\n",
    "data = df[\"gender\"].value_counts()\n",
    "plt.figure(figsize=(10, 8))\n",
    "plt.pie(data.values, labels=data.index, autopct=\"%.2f%%\")\n",
    "plt.legend()\n",
    "plt.title(\"Total numbers of genders\")\n",
    "plt.show()\n"
   ]
  },
  {
   "cell_type": "markdown",
   "metadata": {
    "id": "VvsYuaWon4aP"
   },
   "source": [
    "Let's stylize it and put it in a function for ease of use"
   ]
  },
  {
   "cell_type": "code",
   "execution_count": null,
   "metadata": {
    "id": "1--0cR_fn4aP"
   },
   "outputs": [
    {
     "ename": "",
     "evalue": "",
     "output_type": "error",
     "traceback": [
      "\u001b[1;31mFailed to start the Kernel. \n",
      "\u001b[1;31mUnable to start Kernel 'Python 3.10.12' due to a timeout waiting for the ports to get used. \n",
      "\u001b[1;31mView Jupyter <a href='command:jupyter.viewOutput'>log</a> for further details."
     ]
    }
   ],
   "source": [
    "def univariate_barplot(data, xlabel, ylabel=\"Frequency\", xlabel_rotation=0):\n",
    "    # Set font size\n",
    "    sns.set(font_scale=1.4)\n",
    "\n",
    "    # Get value counts\n",
    "    value_counts = data[xlabel].value_counts()\n",
    "    ax = value_counts.plot.bar(\n",
    "        # Set a categorical color palette\n",
    "        color=sns.color_palette(\"Set2\"),\n",
    "        # Set a figure size\n",
    "        figsize=(10, 10),\n",
    "        # Rotate the x-axis labels for proper orientation\n",
    "        rot=xlabel_rotation,\n",
    "    )\n",
    "\n",
    "    total = value_counts.sum()\n",
    "    # Add percentage label for each plot\n",
    "    for plot in ax.patches:\n",
    "        height = plot.get_height()\n",
    "        ax.annotate(\n",
    "            # Percentage label text\n",
    "            f\"{height / total * 100:.1f}%\",\n",
    "            xy=(\n",
    "                # Percentage label x co-ordinate\n",
    "                plot.get_x() + plot.get_width() / 2.,\n",
    "                # Percentage label y co-ordinate\n",
    "                height,\n",
    "            ),\n",
    "            # Percentage label horizontal align\n",
    "            ha=\"center\",\n",
    "\n",
    "        )\n",
    "\n",
    "    ax.set_title(f\"Distribution of {xlabel} in the dataset\", y=1.02)\n",
    "    ax.set_xlabel(xlabel, labelpad=14)\n",
    "    ax.set_ylabel(ylabel, labelpad=14)"
   ]
  },
  {
   "cell_type": "code",
   "execution_count": null,
   "metadata": {
    "id": "OW3gX__Wn4aQ"
   },
   "outputs": [
    {
     "ename": "",
     "evalue": "",
     "output_type": "error",
     "traceback": [
      "\u001b[1;31mFailed to start the Kernel. \n",
      "\u001b[1;31mUnable to start Kernel 'Python 3.10.12' due to a timeout waiting for the ports to get used. \n",
      "\u001b[1;31mView Jupyter <a href='command:jupyter.viewOutput'>log</a> for further details."
     ]
    }
   ],
   "source": [
    "## using univariate_barplot() function to visualize distribution of gender column\n",
    "\n",
    "univariate_barplot(data=df, xlabel=\"gender\")\n"
   ]
  },
  {
   "cell_type": "markdown",
   "metadata": {
    "id": "ZaAuD6_gis65"
   },
   "source": [
    "<li>\"gender\" columns in the dataframe contains 58.6% total female population and 41.4% total male population.</li>\n",
    "<li>Female population dominates the population of male which can be seen in the above bargraph.</li>"
   ]
  },
  {
   "cell_type": "code",
   "execution_count": null,
   "metadata": {
    "id": "4KHGIO5An4aQ"
   },
   "outputs": [
    {
     "ename": "",
     "evalue": "",
     "output_type": "error",
     "traceback": [
      "\u001b[1;31mFailed to start the Kernel. \n",
      "\u001b[1;31mUnable to start Kernel 'Python 3.10.12' due to a timeout waiting for the ports to get used. \n",
      "\u001b[1;31mView Jupyter <a href='command:jupyter.viewOutput'>log</a> for further details."
     ]
    }
   ],
   "source": [
    "## Filtering \"Other\" from \"gender\" and reset dataframe index\n",
    "\n",
    "df.drop(df[df[\"gender\"] == \"Other\"].index, inplace=True)\n"
   ]
  },
  {
   "cell_type": "code",
   "execution_count": null,
   "metadata": {},
   "outputs": [
    {
     "ename": "",
     "evalue": "",
     "output_type": "error",
     "traceback": [
      "\u001b[1;31mFailed to start the Kernel. \n",
      "\u001b[1;31mUnable to start Kernel 'Python 3.10.12' due to a timeout waiting for the ports to get used. \n",
      "\u001b[1;31mView Jupyter <a href='command:jupyter.viewOutput'>log</a> for further details."
     ]
    }
   ],
   "source": [
    "df.reset_index(drop=True, inplace=True)"
   ]
  },
  {
   "cell_type": "code",
   "execution_count": null,
   "metadata": {
    "id": "OFuXP3-in4aQ"
   },
   "outputs": [
    {
     "ename": "",
     "evalue": "",
     "output_type": "error",
     "traceback": [
      "\u001b[1;31mFailed to start the Kernel. \n",
      "\u001b[1;31mUnable to start Kernel 'Python 3.10.12' due to a timeout waiting for the ports to get used. \n",
      "\u001b[1;31mView Jupyter <a href='command:jupyter.viewOutput'>log</a> for further details."
     ]
    }
   ],
   "source": [
    "## Display plot for \"gender\" again to visualize the difference\n",
    "\n",
    "univariate_barplot(data=df, xlabel=\"gender\")\n"
   ]
  },
  {
   "cell_type": "markdown",
   "metadata": {
    "id": "pGLAZ8BtoxVX"
   },
   "source": [
    "#### ever_married"
   ]
  },
  {
   "cell_type": "code",
   "execution_count": null,
   "metadata": {
    "id": "nb4y2tSun4aR"
   },
   "outputs": [
    {
     "ename": "",
     "evalue": "",
     "output_type": "error",
     "traceback": [
      "\u001b[1;31mFailed to start the Kernel. \n",
      "\u001b[1;31mUnable to start Kernel 'Python 3.10.12' due to a timeout waiting for the ports to get used. \n",
      "\u001b[1;31mView Jupyter <a href='command:jupyter.viewOutput'>log</a> for further details."
     ]
    }
   ],
   "source": [
    "## Display plot for \"ever_married\"\n",
    "data = df.ever_married.value_counts()\n",
    "plt.figure(figsize=(10, 10))\n",
    "plt.bar(x=data.index, height=data.values)\n",
    "plt.xlabel(\"Ever married\")\n",
    "plt.ylabel(\"Frequency\")\n",
    "plt.title(\"Distribution of ever_married in the dataset\")\n",
    "plt.show()\n"
   ]
  },
  {
   "cell_type": "markdown",
   "metadata": {
    "id": "uJswDt8YpZgH"
   },
   "source": [
    "<li>From the above barplot it can be seen that married people are nearly double than unmarried people.</li>"
   ]
  },
  {
   "cell_type": "markdown",
   "metadata": {
    "id": "vwlViBGLruvf"
   },
   "source": [
    "#### Residence_type"
   ]
  },
  {
   "cell_type": "code",
   "execution_count": null,
   "metadata": {
    "id": "eifoRkPmpwXC"
   },
   "outputs": [
    {
     "ename": "",
     "evalue": "",
     "output_type": "error",
     "traceback": [
      "\u001b[1;31mFailed to start the Kernel. \n",
      "\u001b[1;31mUnable to start Kernel 'Python 3.10.12' due to a timeout waiting for the ports to get used. \n",
      "\u001b[1;31mView Jupyter <a href='command:jupyter.viewOutput'>log</a> for further details."
     ]
    }
   ],
   "source": [
    "## Display plot for residence_type\n",
    "univariate_barplot(data=df, xlabel=\"Residence_type\")\n"
   ]
  },
  {
   "cell_type": "markdown",
   "metadata": {
    "id": "YqASQoyR7qcT"
   },
   "source": [
    "<li>From the above barplot it can be seen than urban residence type is 50.8% whereas rural residence type is 49.2%.</li>\n"
   ]
  },
  {
   "cell_type": "markdown",
   "metadata": {
    "id": "GXNHfDyVIYHn"
   },
   "source": [
    "**<h4>work_type</h4>**"
   ]
  },
  {
   "cell_type": "code",
   "execution_count": null,
   "metadata": {
    "id": "kkc1bgNdIYUM"
   },
   "outputs": [
    {
     "ename": "",
     "evalue": "",
     "output_type": "error",
     "traceback": [
      "\u001b[1;31mFailed to start the Kernel. \n",
      "\u001b[1;31mUnable to start Kernel 'Python 3.10.12' due to a timeout waiting for the ports to get used. \n",
      "\u001b[1;31mView Jupyter <a href='command:jupyter.viewOutput'>log</a> for further details."
     ]
    }
   ],
   "source": [
    "## Display plot for \"work_type\"\n",
    "\n",
    "univariate_barplot(data=df, xlabel=\"work_type\", xlabel_rotation=45)\n"
   ]
  },
  {
   "cell_type": "markdown",
   "metadata": {
    "id": "4peAxoDXM1WU"
   },
   "source": [
    "* From the above bargraph we can see that people who work in the private company are 57.2%. Similarly people who are self employed are 16% followed by children 13%. People who work goverment job are 12.9% and never worked are 0.4%."
   ]
  },
  {
   "cell_type": "markdown",
   "metadata": {
    "id": "JBhbMCHLZuLn"
   },
   "source": [
    "#### smoking_status"
   ]
  },
  {
   "cell_type": "code",
   "execution_count": null,
   "metadata": {
    "id": "ycHPBXo67I4u"
   },
   "outputs": [
    {
     "ename": "",
     "evalue": "",
     "output_type": "error",
     "traceback": [
      "\u001b[1;31mFailed to start the Kernel. \n",
      "\u001b[1;31mUnable to start Kernel 'Python 3.10.12' due to a timeout waiting for the ports to get used. \n",
      "\u001b[1;31mView Jupyter <a href='command:jupyter.viewOutput'>log</a> for further details."
     ]
    }
   ],
   "source": [
    "## Display plot for \"smoking\"\n",
    "\n",
    "plt.figure(figsize=(12, 8))\n",
    "data = df[\"smoking_status\"].value_counts()\n",
    "data.plot.pie(autopct=\"%.2f%%\")\n",
    "plt.legend()\n",
    "plt.title(\"Distribution of smoking status\")\n",
    "plt.show()\n"
   ]
  },
  {
   "cell_type": "markdown",
   "metadata": {
    "id": "Qtcj1AlJpkkR"
   },
   "source": [
    "<li>From the above pieplot we can see that highest number of population that is 37.03% are non smoker where as 17% population has previously smoked and 15.44% people smokes now.</li>\n",
    "<li>We can also see that there is no information about 30.22% of the poulation.</li>\n"
   ]
  },
  {
   "cell_type": "markdown",
   "metadata": {
    "id": "z2AS_3Qyn4aT"
   },
   "source": [
    "#### Numerical Variables"
   ]
  },
  {
   "cell_type": "markdown",
   "metadata": {
    "id": "UxzV3cwSS3s8"
   },
   "source": [
    "#### hypertension"
   ]
  },
  {
   "cell_type": "markdown",
   "metadata": {
    "id": "ioSWyAM6n4aT"
   },
   "source": [
    "We use the `describe()` method of a pandas dataframe to analyze a numeric variable's data distribution"
   ]
  },
  {
   "cell_type": "code",
   "execution_count": null,
   "metadata": {
    "id": "UclrNS_Tn4aT"
   },
   "outputs": [
    {
     "ename": "",
     "evalue": "",
     "output_type": "error",
     "traceback": [
      "\u001b[1;31mFailed to start the Kernel. \n",
      "\u001b[1;31mUnable to start Kernel 'Python 3.10.12' due to a timeout waiting for the ports to get used. \n",
      "\u001b[1;31mView Jupyter <a href='command:jupyter.viewOutput'>log</a> for further details."
     ]
    }
   ],
   "source": [
    "df.hypertension.describe()"
   ]
  },
  {
   "cell_type": "code",
   "execution_count": null,
   "metadata": {
    "id": "50vHzfYXRVaf"
   },
   "outputs": [
    {
     "ename": "",
     "evalue": "",
     "output_type": "error",
     "traceback": [
      "\u001b[1;31mFailed to start the Kernel. \n",
      "\u001b[1;31mUnable to start Kernel 'Python 3.10.12' due to a timeout waiting for the ports to get used. \n",
      "\u001b[1;31mView Jupyter <a href='command:jupyter.viewOutput'>log</a> for further details."
     ]
    }
   ],
   "source": [
    "##  bar plot for \"hypertension\" field\n",
    "\n",
    "univariate_barplot(data=df, xlabel=\"hypertension\")\n"
   ]
  },
  {
   "cell_type": "markdown",
   "metadata": {
    "id": "HqIbsy3YW6J-"
   },
   "source": [
    "<li>From the above barplot it can be seen that number of frequency who doesn't have hypertension is 90.3% whereas rest of the people have hypertension.</li>"
   ]
  },
  {
   "cell_type": "markdown",
   "metadata": {
    "id": "8WZZv8NOYGCg"
   },
   "source": [
    "#### heart_disease"
   ]
  },
  {
   "cell_type": "code",
   "execution_count": null,
   "metadata": {
    "id": "BN3pGbs6n4aU"
   },
   "outputs": [
    {
     "ename": "",
     "evalue": "",
     "output_type": "error",
     "traceback": [
      "\u001b[1;31mFailed to start the Kernel. \n",
      "\u001b[1;31mUnable to start Kernel 'Python 3.10.12' due to a timeout waiting for the ports to get used. \n",
      "\u001b[1;31mView Jupyter <a href='command:jupyter.viewOutput'>log</a> for further details."
     ]
    }
   ],
   "source": [
    "\n",
    "df.heart_disease.describe()\n"
   ]
  },
  {
   "cell_type": "code",
   "execution_count": null,
   "metadata": {},
   "outputs": [
    {
     "ename": "",
     "evalue": "",
     "output_type": "error",
     "traceback": [
      "\u001b[1;31mFailed to start the Kernel. \n",
      "\u001b[1;31mUnable to start Kernel 'Python 3.10.12' due to a timeout waiting for the ports to get used. \n",
      "\u001b[1;31mView Jupyter <a href='command:jupyter.viewOutput'>log</a> for further details."
     ]
    }
   ],
   "source": [
    "df.heart_disease.unique()"
   ]
  },
  {
   "cell_type": "code",
   "execution_count": null,
   "metadata": {
    "id": "urJQkTgNRVd2"
   },
   "outputs": [
    {
     "ename": "",
     "evalue": "",
     "output_type": "error",
     "traceback": [
      "\u001b[1;31mFailed to start the Kernel. \n",
      "\u001b[1;31mUnable to start Kernel 'Python 3.10.12' due to a timeout waiting for the ports to get used. \n",
      "\u001b[1;31mView Jupyter <a href='command:jupyter.viewOutput'>log</a> for further details."
     ]
    }
   ],
   "source": [
    "##  bar plot for \"heart_disease\" field\n",
    "\n",
    "univariate_barplot(data=df, xlabel=\"heart_disease\")\n"
   ]
  },
  {
   "cell_type": "markdown",
   "metadata": {
    "id": "XntVfFBtYXSL"
   },
   "source": [
    "<li>According to above barplot 94.6% people doesn't have heart disease and rest 5.4% of the people have heart disease.</li>"
   ]
  },
  {
   "cell_type": "code",
   "execution_count": null,
   "metadata": {
    "id": "DyinMyrtNkMh"
   },
   "outputs": [
    {
     "ename": "",
     "evalue": "",
     "output_type": "error",
     "traceback": [
      "\u001b[1;31mFailed to start the Kernel. \n",
      "\u001b[1;31mUnable to start Kernel 'Python 3.10.12' due to a timeout waiting for the ports to get used. \n",
      "\u001b[1;31mView Jupyter <a href='command:jupyter.viewOutput'>log</a> for further details."
     ]
    }
   ],
   "source": [
    "## List all the categorical features  in the data\n",
    "\n",
    "categorical_features = [\n",
    "    \"hypertension\",\n",
    "    \"gender\",\n",
    "    \"heart_disease\",\n",
    "    \"ever_married\",\n",
    "    \"work_type\",\n",
    "    \"Residence_type\",\n",
    "    \"smoking_status\",\n",
    "]\n",
    "print(f\"The number of categorical features in our dataset is {len(categorical_features)}.\")\n",
    "df.head()"
   ]
  },
  {
   "cell_type": "code",
   "execution_count": null,
   "metadata": {
    "id": "bVn5L5Omn4aW"
   },
   "outputs": [
    {
     "ename": "",
     "evalue": "",
     "output_type": "error",
     "traceback": [
      "\u001b[1;31mFailed to start the Kernel. \n",
      "\u001b[1;31mUnable to start Kernel 'Python 3.10.12' due to a timeout waiting for the ports to get used. \n",
      "\u001b[1;31mView Jupyter <a href='command:jupyter.viewOutput'>log</a> for further details."
     ]
    }
   ],
   "source": [
    "## List all the categorical features in the data\n",
    "\n",
    "numerical_features = [\n",
    "    \"age\",\n",
    "    \"avg_glucose_level\",\n",
    "    \"bmi\",\n",
    "]\n",
    "print(f\"The number of numerial features in our dataset is {len(numerical_features)}.\")"
   ]
  },
  {
   "cell_type": "markdown",
   "metadata": {
    "id": "zgUiZnNIZLG1"
   },
   "source": [
    "As mentioned before, we can use the `describe()` method of a pandas dataframe to analyze a numeric variable's data distribution"
   ]
  },
  {
   "cell_type": "code",
   "execution_count": null,
   "metadata": {
    "id": "9yUCg7OmRPxJ"
   },
   "outputs": [
    {
     "ename": "",
     "evalue": "",
     "output_type": "error",
     "traceback": [
      "\u001b[1;31mFailed to start the Kernel. \n",
      "\u001b[1;31mUnable to start Kernel 'Python 3.10.12' due to a timeout waiting for the ports to get used. \n",
      "\u001b[1;31mView Jupyter <a href='command:jupyter.viewOutput'>log</a> for further details."
     ]
    }
   ],
   "source": [
    "df[numerical_features].describe()\n"
   ]
  },
  {
   "cell_type": "markdown",
   "metadata": {
    "id": "65_dgrXrRpqD"
   },
   "source": [
    "#### From above description:\n",
    "<li>In age column, total count is 5190, mean is 43.229, standard deviation is 22.61, minimum value is 0.08, max value is 82 and quartiles(q1, q2, q3) are 25, 45 and 61 resplectively</li>\n",
    "<li>Similarly, we have all such data distribution of avg_glucose_level and bmi as well but we can see that with the count in bmi there are some missing value.</li>"
   ]
  },
  {
   "cell_type": "markdown",
   "metadata": {
    "id": "Xtjj82tCn4aW"
   },
   "source": [
    "Other than the data description the best way to visualize a numerical variable is to look at its distribution plot"
   ]
  },
  {
   "cell_type": "markdown",
   "metadata": {
    "id": "mT3k8XwOn4aW"
   },
   "source": [
    "#### age"
   ]
  },
  {
   "cell_type": "code",
   "execution_count": null,
   "metadata": {
    "id": "aMHPQdRJn4aW"
   },
   "outputs": [
    {
     "ename": "",
     "evalue": "",
     "output_type": "error",
     "traceback": [
      "\u001b[1;31mFailed to start the Kernel. \n",
      "\u001b[1;31mUnable to start Kernel 'Python 3.10.12' due to a timeout waiting for the ports to get used. \n",
      "\u001b[1;31mView Jupyter <a href='command:jupyter.viewOutput'>log</a> for further details."
     ]
    }
   ],
   "source": [
    "sns.displot(data=df.age, kde=True, height=7)\n",
    "plt.show()"
   ]
  },
  {
   "cell_type": "markdown",
   "metadata": {
    "id": "w-3t3dyBn4aX"
   },
   "source": [
    "#### bmi"
   ]
  },
  {
   "cell_type": "code",
   "execution_count": null,
   "metadata": {
    "id": "de2gjrDsn4aX"
   },
   "outputs": [
    {
     "ename": "",
     "evalue": "",
     "output_type": "error",
     "traceback": [
      "\u001b[1;31mFailed to start the Kernel. \n",
      "\u001b[1;31mUnable to start Kernel 'Python 3.10.12' due to a timeout waiting for the ports to get used. \n",
      "\u001b[1;31mView Jupyter <a href='command:jupyter.viewOutput'>log</a> for further details."
     ]
    }
   ],
   "source": [
    "##  distribution plot for \"bmi\" field\n",
    "\n",
    "sns.displot(data=df.bmi, kde=True, height=6)  \n",
    "plt.show()\n"
   ]
  },
  {
   "cell_type": "markdown",
   "metadata": {
    "id": "Jv5dK30Cn4aX"
   },
   "source": [
    "#### avg_glucose_level"
   ]
  },
  {
   "cell_type": "code",
   "execution_count": null,
   "metadata": {
    "id": "VJxRN-POn4aX"
   },
   "outputs": [
    {
     "ename": "",
     "evalue": "",
     "output_type": "error",
     "traceback": [
      "\u001b[1;31mFailed to start the Kernel. \n",
      "\u001b[1;31mUnable to start Kernel 'Python 3.10.12' due to a timeout waiting for the ports to get used. \n",
      "\u001b[1;31mView Jupyter <a href='command:jupyter.viewOutput'>log</a> for further details."
     ]
    }
   ],
   "source": [
    "##  distribution plot for \"avg_glucose_level\" field\n",
    "\n",
    "# calculating mean and median of the column avg_glucose_level in the DataFrame\n",
    "mean = df.avg_glucose_level.mean()\n",
    "median = df.avg_glucose_level.median()\n",
    "\n",
    "sns.displot(data=df.avg_glucose_level, kde=True, height=6)\n",
    "plt.axvline(mean, color=\"r\", linestyle=\"dashed\")\n",
    "plt.axvline(median, color=\"g\", linestyle=\"dashed\")\n",
    "plt.show()\n"
   ]
  },
  {
   "cell_type": "markdown",
   "metadata": {
    "id": "VzseYdDOn4aX"
   },
   "source": [
    "#### Data Skewness\n",
    "\n"
   ]
  },
  {
   "cell_type": "code",
   "execution_count": null,
   "metadata": {
    "id": "mybohBJqRPzZ"
   },
   "outputs": [
    {
     "ename": "",
     "evalue": "",
     "output_type": "error",
     "traceback": [
      "\u001b[1;31mFailed to start the Kernel. \n",
      "\u001b[1;31mUnable to start Kernel 'Python 3.10.12' due to a timeout waiting for the ports to get used. \n",
      "\u001b[1;31mView Jupyter <a href='command:jupyter.viewOutput'>log</a> for further details."
     ]
    }
   ],
   "source": [
    "df[numerical_features].skew()"
   ]
  },
  {
   "cell_type": "markdown",
   "metadata": {
    "id": "k_fEaQfhn4aY"
   },
   "source": [
    "### Target Variable Analysis: stroke"
   ]
  },
  {
   "cell_type": "code",
   "execution_count": null,
   "metadata": {
    "id": "fAK-Vfpxn4aY"
   },
   "outputs": [
    {
     "ename": "",
     "evalue": "",
     "output_type": "error",
     "traceback": [
      "\u001b[1;31mFailed to start the Kernel. \n",
      "\u001b[1;31mUnable to start Kernel 'Python 3.10.12' due to a timeout waiting for the ports to get used. \n",
      "\u001b[1;31mView Jupyter <a href='command:jupyter.viewOutput'>log</a> for further details."
     ]
    }
   ],
   "source": [
    "target_variable = \"stroke\""
   ]
  },
  {
   "cell_type": "code",
   "execution_count": null,
   "metadata": {
    "id": "C-wKKL69n4aY"
   },
   "outputs": [
    {
     "ename": "",
     "evalue": "",
     "output_type": "error",
     "traceback": [
      "\u001b[1;31mFailed to start the Kernel. \n",
      "\u001b[1;31mUnable to start Kernel 'Python 3.10.12' due to a timeout waiting for the ports to get used. \n",
      "\u001b[1;31mView Jupyter <a href='command:jupyter.viewOutput'>log</a> for further details."
     ]
    }
   ],
   "source": [
    "##  barplot for our target variable\n",
    "\n",
    "univariate_barplot(data=df, xlabel=\"stroke\")\n"
   ]
  },
  {
   "cell_type": "markdown",
   "metadata": {
    "id": "ACvEAIsRn4aZ"
   },
   "source": [
    "<li>Approximately 95.1% of the population does not experience strokes, while 4.9% are affected by stroke.</li>\n",
    "<li>Since, target class doesn't have same distribution so it is imbalanced dataset.</li>"
   ]
  },
  {
   "cell_type": "markdown",
   "metadata": {
    "id": "jb5AXpNPn4aZ"
   },
   "source": [
    "### Bivariate Analysis"
   ]
  },
  {
   "cell_type": "markdown",
   "metadata": {
    "id": "TYmEfIL-n4aa"
   },
   "source": [
    "#### work_type vs age"
   ]
  },
  {
   "cell_type": "markdown",
   "metadata": {
    "id": "B2SrG1zMaFO7"
   },
   "source": [
    "pandas provides an `agg()` method on groupby objects to aggregate using one or more operations over the specified axis."
   ]
  },
  {
   "cell_type": "code",
   "execution_count": null,
   "metadata": {
    "id": "ujKtyOX_n4aa"
   },
   "outputs": [
    {
     "ename": "",
     "evalue": "",
     "output_type": "error",
     "traceback": [
      "\u001b[1;31mFailed to start the Kernel. \n",
      "\u001b[1;31mUnable to start Kernel 'Python 3.10.12' due to a timeout waiting for the ports to get used. \n",
      "\u001b[1;31mView Jupyter <a href='command:jupyter.viewOutput'>log</a> for further details."
     ]
    }
   ],
   "source": [
    "df.groupby(\"work_type\").agg({\"age\": \"describe\"})"
   ]
  },
  {
   "cell_type": "code",
   "execution_count": null,
   "metadata": {
    "id": "iWwjWxttn4aa"
   },
   "outputs": [
    {
     "ename": "",
     "evalue": "",
     "output_type": "error",
     "traceback": [
      "\u001b[1;31mFailed to start the Kernel. \n",
      "\u001b[1;31mUnable to start Kernel 'Python 3.10.12' due to a timeout waiting for the ports to get used. \n",
      "\u001b[1;31mView Jupyter <a href='command:jupyter.viewOutput'>log</a> for further details."
     ]
    }
   ],
   "source": [
    "ax = df.plot.scatter(x=\"work_type\", y=\"age\", rot=45, figsize=(10, 10))\n",
    "ax.set_title(\"work_type vs age\", y=1.02)\n",
    "ax.axhline(y=13, c=\"r\", linestyle=\"dashed\", label=\"13yrs\")\n",
    "ax.axhline(y=16, c=\"g\", linestyle=\"dashed\", label=\"16yrs\")\n",
    "plt.legend()\n",
    "plt.show()"
   ]
  },
  {
   "cell_type": "code",
   "execution_count": null,
   "metadata": {
    "id": "53MODe2Z2ELh"
   },
   "outputs": [
    {
     "ename": "",
     "evalue": "",
     "output_type": "error",
     "traceback": [
      "\u001b[1;31mFailed to start the Kernel. \n",
      "\u001b[1;31mUnable to start Kernel 'Python 3.10.12' due to a timeout waiting for the ports to get used. \n",
      "\u001b[1;31mView Jupyter <a href='command:jupyter.viewOutput'>log</a> for further details."
     ]
    }
   ],
   "source": [
    "df.loc[df[\"work_type\"] == \"children\", \"work_type\"] = \"Never_worked\"\n",
    "df.loc[(df[\"work_type\"] == \"Private\") & (df[\"age\"] < 13), \"age\"] = 13\n",
    "df.loc[(df[\"work_type\"] == \"Self-employed\") & (df[\"age\"] < 13), \"age\"] = 13"
   ]
  },
  {
   "cell_type": "markdown",
   "metadata": {
    "id": "RKhm25wMn4ab"
   },
   "source": [
    "Let us now look at the updated plots of *work_type*"
   ]
  },
  {
   "cell_type": "code",
   "execution_count": null,
   "metadata": {
    "id": "9pKmvC2mn4ab"
   },
   "outputs": [
    {
     "ename": "",
     "evalue": "",
     "output_type": "error",
     "traceback": [
      "\u001b[1;31mFailed to start the Kernel. \n",
      "\u001b[1;31mUnable to start Kernel 'Python 3.10.12' due to a timeout waiting for the ports to get used. \n",
      "\u001b[1;31mView Jupyter <a href='command:jupyter.viewOutput'>log</a> for further details."
     ]
    }
   ],
   "source": [
    "univariate_barplot(df, \"work_type\", xlabel_rotation=45)"
   ]
  },
  {
   "cell_type": "code",
   "execution_count": null,
   "metadata": {
    "id": "RQqJ0Fv3n4ab"
   },
   "outputs": [
    {
     "ename": "",
     "evalue": "",
     "output_type": "error",
     "traceback": [
      "\u001b[1;31mFailed to start the Kernel. \n",
      "\u001b[1;31mUnable to start Kernel 'Python 3.10.12' due to a timeout waiting for the ports to get used. \n",
      "\u001b[1;31mView Jupyter <a href='command:jupyter.viewOutput'>log</a> for further details."
     ]
    }
   ],
   "source": [
    "ax = df.plot.scatter(x=\"work_type\", y=\"age\", rot=45, figsize=(10, 10))\n",
    "ax.set_title(\"work_type vs age\", y=1.02)\n",
    "plt.show()"
   ]
  },
  {
   "cell_type": "markdown",
   "metadata": {
    "id": "GZQ7-JIhn4ac"
   },
   "source": [
    "We have now reduced the work_type to just 4 categories and handled some of the outliers in the simplest way possible."
   ]
  },
  {
   "cell_type": "markdown",
   "metadata": {
    "id": "ibJaBrTOn4ac"
   },
   "source": [
    "#### smoking_status vs age"
   ]
  },
  {
   "cell_type": "code",
   "execution_count": null,
   "metadata": {
    "id": "8MNgReEMn4ac"
   },
   "outputs": [
    {
     "ename": "",
     "evalue": "",
     "output_type": "error",
     "traceback": [
      "\u001b[1;31mFailed to start the Kernel. \n",
      "\u001b[1;31mUnable to start Kernel 'Python 3.10.12' due to a timeout waiting for the ports to get used. \n",
      "\u001b[1;31mView Jupyter <a href='command:jupyter.viewOutput'>log</a> for further details."
     ]
    }
   ],
   "source": [
    "## Group by 'smoking_status' and aggregate using the `describe` method\n",
    "\n",
    "df.groupby(\"smoking_status\").agg({\"age\": \"describe\"})\n"
   ]
  },
  {
   "cell_type": "code",
   "execution_count": null,
   "metadata": {
    "id": "_Ar6Lqyan4ad"
   },
   "outputs": [
    {
     "ename": "",
     "evalue": "",
     "output_type": "error",
     "traceback": [
      "\u001b[1;31mFailed to start the Kernel. \n",
      "\u001b[1;31mUnable to start Kernel 'Python 3.10.12' due to a timeout waiting for the ports to get used. \n",
      "\u001b[1;31mView Jupyter <a href='command:jupyter.viewOutput'>log</a> for further details."
     ]
    }
   ],
   "source": [
    "ax = df.plot.scatter(x=\"smoking_status\", y=\"age\", rot=45, figsize=(10, 10))\n",
    "ax.set_title(\"smoking_status vs age\", y=1.02)\n",
    "ax.axhline(y=10, c=\"r\", linestyle=\"dashed\")\n",
    "plt.show()"
   ]
  },
  {
   "cell_type": "markdown",
   "metadata": {
    "id": "pJ_4ihWqpatA"
   },
   "source": [
    "**<h5>Let's make some more assumptions on the data</h5>**\n",
    "\n",
    "<li>We can clearly see that people below 10 years are not found smoking in this dataset</li>\n",
    "\n",
    "<li>Let's make an assumption that person below 10 years can not smoke</li>\n",
    "\n",
    "<li>But there are some people whose smoking status is unknown even if they are below that age limit</li>\n",
    "\n",
    "<li>People whose smoking status is unknown and below 10 years age limit can thus be changed to never smoked</li>"
   ]
  },
  {
   "cell_type": "code",
   "execution_count": null,
   "metadata": {
    "id": "ktQcWlYI7I_P"
   },
   "outputs": [
    {
     "ename": "",
     "evalue": "",
     "output_type": "error",
     "traceback": [
      "\u001b[1;31mFailed to start the Kernel. \n",
      "\u001b[1;31mUnable to start Kernel 'Python 3.10.12' due to a timeout waiting for the ports to get used. \n",
      "\u001b[1;31mView Jupyter <a href='command:jupyter.viewOutput'>log</a> for further details."
     ]
    }
   ],
   "source": [
    "df.loc[(df[\"smoking_status\"] == \"Unknown\") & (df[\"age\"] < 10), \"smoking_status\"] = \"never smoked\""
   ]
  },
  {
   "cell_type": "markdown",
   "metadata": {
    "id": "izxtvPpmn4ae"
   },
   "source": [
    "Let us now look at the updated plot of *smoking_status*"
   ]
  },
  {
   "cell_type": "code",
   "execution_count": null,
   "metadata": {
    "id": "JYzp5_Abn4ae"
   },
   "outputs": [
    {
     "ename": "",
     "evalue": "",
     "output_type": "error",
     "traceback": [
      "\u001b[1;31mFailed to start the Kernel. \n",
      "\u001b[1;31mUnable to start Kernel 'Python 3.10.12' due to a timeout waiting for the ports to get used. \n",
      "\u001b[1;31mView Jupyter <a href='command:jupyter.viewOutput'>log</a> for further details."
     ]
    }
   ],
   "source": [
    "## scatter plot of smoking status vs age \n",
    "## assumptions were made on the data\n",
    "\n",
    "ax = df.plot.scatter(x=\"smoking_status\", y=\"age\", rot=45, figsize=(10, 10))\n",
    "ax.axhline(y=10, c=\"c\", linestyle=\"dashed\")\n",
    "plt.show()"
   ]
  },
  {
   "cell_type": "markdown",
   "metadata": {
    "id": "2fVLj7eWn4af"
   },
   "source": [
    "It's quite hard to make an assumption on the remaining *Unknown* *smoking_staus*. We can convert it to pandas missing value marker (NaN) since they're essentially missing values but let's leave them as it is for now."
   ]
  },
  {
   "cell_type": "markdown",
   "metadata": {
    "id": "Ac8P0TLVn4af"
   },
   "source": [
    "#### gender vs stroke"
   ]
  },
  {
   "cell_type": "markdown",
   "metadata": {
    "id": "qlppiI_Fn4af"
   },
   "source": [
    "Let us now look at the distribution of our target variable within a categorical variable"
   ]
  },
  {
   "cell_type": "code",
   "execution_count": null,
   "metadata": {
    "id": "r0As_d8Hn4ag"
   },
   "outputs": [
    {
     "ename": "",
     "evalue": "",
     "output_type": "error",
     "traceback": [
      "\u001b[1;31mFailed to start the Kernel. \n",
      "\u001b[1;31mUnable to start Kernel 'Python 3.10.12' due to a timeout waiting for the ports to get used. \n",
      "\u001b[1;31mView Jupyter <a href='command:jupyter.viewOutput'>log</a> for further details."
     ]
    }
   ],
   "source": [
    "df.groupby([\"gender\", \"stroke\"]).size()"
   ]
  },
  {
   "cell_type": "code",
   "execution_count": null,
   "metadata": {
    "id": "xC7pMyUZn4ag"
   },
   "outputs": [
    {
     "ename": "",
     "evalue": "",
     "output_type": "error",
     "traceback": [
      "\u001b[1;31mFailed to start the Kernel. \n",
      "\u001b[1;31mUnable to start Kernel 'Python 3.10.12' due to a timeout waiting for the ports to get used. \n",
      "\u001b[1;31mView Jupyter <a href='command:jupyter.viewOutput'>log</a> for further details."
     ]
    }
   ],
   "source": [
    "df.groupby([\"gender\", \"stroke\"]).size().unstack()"
   ]
  },
  {
   "cell_type": "markdown",
   "metadata": {
    "id": "pTOHJC91n4ag"
   },
   "source": [
    "Let's make a visualization similar to our univariate analysis but with the added information of the target variable distribution."
   ]
  },
  {
   "cell_type": "code",
   "execution_count": null,
   "metadata": {
    "id": "uSseHEArn4ag"
   },
   "outputs": [
    {
     "ename": "",
     "evalue": "",
     "output_type": "error",
     "traceback": [
      "\u001b[1;31mFailed to start the Kernel. \n",
      "\u001b[1;31mUnable to start Kernel 'Python 3.10.12' due to a timeout waiting for the ports to get used. \n",
      "\u001b[1;31mView Jupyter <a href='command:jupyter.viewOutput'>log</a> for further details."
     ]
    }
   ],
   "source": [
    "def bivariate_barplot(data, xlabel, ylabel=\"Frequency\", xlabel_rotation=0):\n",
    "    # Set font size\n",
    "    sns.set(font_scale=1.4)\n",
    "    ax = data.groupby([xlabel, \"stroke\"]).size().unstack().plot.bar(\n",
    "        stacked=True,\n",
    "        # Set a categorical color palette\n",
    "        color=sns.color_palette(\"Set2\"),\n",
    "        # Set a figure size\n",
    "        figsize=(10, 10),\n",
    "        # Rotate the x-axis labels for proper orientation\n",
    "        rot=xlabel_rotation,\n",
    "    )\n",
    "\n",
    "    ax.set_title(f\"Distribution of {xlabel} with respect to the stroke\", y=1.02)\n",
    "    ax.set_xlabel(xlabel, labelpad=14)\n",
    "    ax.set_ylabel(ylabel, labelpad=14)"
   ]
  },
  {
   "cell_type": "code",
   "execution_count": null,
   "metadata": {
    "id": "21emIVAyn4ah"
   },
   "outputs": [
    {
     "ename": "",
     "evalue": "",
     "output_type": "error",
     "traceback": [
      "\u001b[1;31mFailed to start the Kernel. \n",
      "\u001b[1;31mUnable to start Kernel 'Python 3.10.12' due to a timeout waiting for the ports to get used. \n",
      "\u001b[1;31mView Jupyter <a href='command:jupyter.viewOutput'>log</a> for further details."
     ]
    }
   ],
   "source": [
    "bivariate_barplot(data=df, xlabel=\"gender\")"
   ]
  },
  {
   "cell_type": "markdown",
   "metadata": {
    "id": "c-o3q8zln4ah"
   },
   "source": [
    "Let's put this into a different perspective by calculating the percentage probability of each category having a stroke.\n",
    "\n",
    "* We will first need the data of stroke victims for each category. Since the stroke values are just 0s and 1s, we can easily calculate it if we `groupby()` the category and then add the stroke values.\n",
    "* To calculate the percent probability we'll need the sample size as well."
   ]
  },
  {
   "cell_type": "code",
   "execution_count": null,
   "metadata": {
    "id": "Fib_OVzln4ah"
   },
   "outputs": [
    {
     "ename": "",
     "evalue": "",
     "output_type": "error",
     "traceback": [
      "\u001b[1;31mFailed to start the Kernel. \n",
      "\u001b[1;31mUnable to start Kernel 'Python 3.10.12' due to a timeout waiting for the ports to get used. \n",
      "\u001b[1;31mView Jupyter <a href='command:jupyter.viewOutput'>log</a> for further details."
     ]
    }
   ],
   "source": [
    "feature_impact = df.groupby(\"gender\")[\"stroke\"].agg([\"sum\", \"size\"])\n",
    "feature_impact"
   ]
  },
  {
   "cell_type": "code",
   "execution_count": null,
   "metadata": {
    "id": "FBkhqvcyn4ai"
   },
   "outputs": [
    {
     "ename": "",
     "evalue": "",
     "output_type": "error",
     "traceback": [
      "\u001b[1;31mFailed to start the Kernel. \n",
      "\u001b[1;31mUnable to start Kernel 'Python 3.10.12' due to a timeout waiting for the ports to get used. \n",
      "\u001b[1;31mView Jupyter <a href='command:jupyter.viewOutput'>log</a> for further details."
     ]
    }
   ],
   "source": [
    "feature_impact_probability = feature_impact[\"sum\"] / feature_impact[\"size\"] * 100\n",
    "feature_impact_probability"
   ]
  },
  {
   "cell_type": "markdown",
   "metadata": {
    "id": "4q3muy6kwx4g"
   },
   "source": [
    "<li>From above, there is 4.7% probability of stroke occurance in female and 5.1% probability of stroke occurance in male in the above datasets</li>"
   ]
  },
  {
   "cell_type": "markdown",
   "metadata": {
    "id": "nsBQ2aLvn4ai"
   },
   "source": [
    "Let's wrap this up in a function to reuse it in the future"
   ]
  },
  {
   "cell_type": "code",
   "execution_count": null,
   "metadata": {
    "id": "uwxjiF0on4ai"
   },
   "outputs": [
    {
     "ename": "",
     "evalue": "",
     "output_type": "error",
     "traceback": [
      "\u001b[1;31mFailed to start the Kernel. \n",
      "\u001b[1;31mUnable to start Kernel 'Python 3.10.12' due to a timeout waiting for the ports to get used. \n",
      "\u001b[1;31mView Jupyter <a href='command:jupyter.viewOutput'>log</a> for further details."
     ]
    }
   ],
   "source": [
    "def calculate_feature_impact_probability(data, feature, label=\"stroke\"):\n",
    "    feature_impact = df.groupby(feature)[label].agg([\"sum\", \"size\"])\n",
    "    feature_impact_probability = feature_impact[\"sum\"] / feature_impact[\"size\"] * 100\n",
    "    return feature_impact_probability\n"
   ]
  },
  {
   "cell_type": "markdown",
   "metadata": {
    "id": "8b6aCbDOn4ai"
   },
   "source": [
    "#### ever_married vs stroke"
   ]
  },
  {
   "cell_type": "code",
   "execution_count": null,
   "metadata": {
    "id": "7O9qsuJmn4ai"
   },
   "outputs": [
    {
     "ename": "",
     "evalue": "",
     "output_type": "error",
     "traceback": [
      "\u001b[1;31mFailed to start the Kernel. \n",
      "\u001b[1;31mUnable to start Kernel 'Python 3.10.12' due to a timeout waiting for the ports to get used. \n",
      "\u001b[1;31mView Jupyter <a href='command:jupyter.viewOutput'>log</a> for further details."
     ]
    }
   ],
   "source": [
    "##  bivariate plot for \"ever_married\" field\n",
    "\n",
    "bivariate_barplot(data=df, xlabel=\"ever_married\")\n"
   ]
  },
  {
   "cell_type": "code",
   "execution_count": null,
   "metadata": {},
   "outputs": [
    {
     "ename": "",
     "evalue": "",
     "output_type": "error",
     "traceback": [
      "\u001b[1;31mFailed to start the Kernel. \n",
      "\u001b[1;31mUnable to start Kernel 'Python 3.10.12' due to a timeout waiting for the ports to get used. \n",
      "\u001b[1;31mView Jupyter <a href='command:jupyter.viewOutput'>log</a> for further details."
     ]
    }
   ],
   "source": [
    "df.head()"
   ]
  },
  {
   "cell_type": "code",
   "execution_count": null,
   "metadata": {
    "id": "vAUnPWeMn4aj"
   },
   "outputs": [
    {
     "ename": "",
     "evalue": "",
     "output_type": "error",
     "traceback": [
      "\u001b[1;31mFailed to start the Kernel. \n",
      "\u001b[1;31mUnable to start Kernel 'Python 3.10.12' due to a timeout waiting for the ports to get used. \n",
      "\u001b[1;31mView Jupyter <a href='command:jupyter.viewOutput'>log</a> for further details."
     ]
    }
   ],
   "source": [
    "##  the impact of \"ever_married\" on our target variable\n",
    "\n",
    "calculate_feature_impact_probability(data=df, feature=\"ever_married\")\n"
   ]
  },
  {
   "cell_type": "markdown",
   "metadata": {
    "id": "GnRE3Eym0kTc"
   },
   "source": [
    "<li>There is a chance of 6.5% of stroke occurance to the married people and 1.65% to the unmarried people.</li>"
   ]
  },
  {
   "cell_type": "markdown",
   "metadata": {
    "id": "kKjFCcCRn4aj"
   },
   "source": [
    "#### Residence_type vs stroke"
   ]
  },
  {
   "cell_type": "code",
   "execution_count": null,
   "metadata": {
    "id": "Mz8dQ-knn4aj"
   },
   "outputs": [
    {
     "ename": "",
     "evalue": "",
     "output_type": "error",
     "traceback": [
      "\u001b[1;31mFailed to start the Kernel. \n",
      "\u001b[1;31mUnable to start Kernel 'Python 3.10.12' due to a timeout waiting for the ports to get used. \n",
      "\u001b[1;31mView Jupyter <a href='command:jupyter.viewOutput'>log</a> for further details."
     ]
    }
   ],
   "source": [
    "##  bivariate plot for \"Residence_type\" field\n",
    "\n",
    "bivariate_barplot(data=df, xlabel=\"Residence_type\")\n"
   ]
  },
  {
   "cell_type": "code",
   "execution_count": null,
   "metadata": {
    "id": "SloolUKfn4aj"
   },
   "outputs": [
    {
     "ename": "",
     "evalue": "",
     "output_type": "error",
     "traceback": [
      "\u001b[1;31mFailed to start the Kernel. \n",
      "\u001b[1;31mUnable to start Kernel 'Python 3.10.12' due to a timeout waiting for the ports to get used. \n",
      "\u001b[1;31mView Jupyter <a href='command:jupyter.viewOutput'>log</a> for further details."
     ]
    }
   ],
   "source": [
    "##  the impact of \"Residence_type\" on our target variable\n",
    "\n",
    "calculate_feature_impact_probability(data=df, feature=\"Residence_type\")\n"
   ]
  },
  {
   "cell_type": "markdown",
   "metadata": {
    "id": "-IKfB34kJ_TY"
   },
   "source": [
    "<li>People from Rural residence type have 4.55% probability of stroke while people from Urbal residence type have 5.2%.</li>"
   ]
  },
  {
   "cell_type": "markdown",
   "metadata": {
    "id": "Depo7EBOn4ak"
   },
   "source": [
    "#### work_type vs stroke"
   ]
  },
  {
   "cell_type": "code",
   "execution_count": null,
   "metadata": {
    "id": "aGoYoNGMn4ak"
   },
   "outputs": [
    {
     "ename": "",
     "evalue": "",
     "output_type": "error",
     "traceback": [
      "\u001b[1;31mFailed to start the Kernel. \n",
      "\u001b[1;31mUnable to start Kernel 'Python 3.10.12' due to a timeout waiting for the ports to get used. \n",
      "\u001b[1;31mView Jupyter <a href='command:jupyter.viewOutput'>log</a> for further details."
     ]
    }
   ],
   "source": [
    "##  bivariate plot for \"work_type\" field\n",
    "\n",
    "df.groupby([\"work_type\", \"stroke\"]).size().unstack().plot.bar(stacked=True, figsize=(10, 8))\n",
    "plt.show()\n"
   ]
  },
  {
   "cell_type": "code",
   "execution_count": null,
   "metadata": {},
   "outputs": [
    {
     "ename": "",
     "evalue": "",
     "output_type": "error",
     "traceback": [
      "\u001b[1;31mFailed to start the Kernel. \n",
      "\u001b[1;31mUnable to start Kernel 'Python 3.10.12' due to a timeout waiting for the ports to get used. \n",
      "\u001b[1;31mView Jupyter <a href='command:jupyter.viewOutput'>log</a> for further details."
     ]
    }
   ],
   "source": [
    "bivariate_barplot(data=df, xlabel=\"work_type\")"
   ]
  },
  {
   "cell_type": "code",
   "execution_count": null,
   "metadata": {
    "id": "6R0Pg0PCn4ak"
   },
   "outputs": [
    {
     "ename": "",
     "evalue": "",
     "output_type": "error",
     "traceback": [
      "\u001b[1;31mFailed to start the Kernel. \n",
      "\u001b[1;31mUnable to start Kernel 'Python 3.10.12' due to a timeout waiting for the ports to get used. \n",
      "\u001b[1;31mView Jupyter <a href='command:jupyter.viewOutput'>log</a> for further details."
     ]
    }
   ],
   "source": [
    "##  the impact of \"work_type\" on our target variable\n",
    "\n",
    "calculate_feature_impact_probability(data=df, feature=\"work_type\")\n"
   ]
  },
  {
   "cell_type": "markdown",
   "metadata": {
    "id": "fsGzLx6wMNjG"
   },
   "source": [
    "<li>With the above information, self-employed people have the higher chance of stroke occurance that is 7.93% while never worked person have less chance of stroke that is 0.28%.</li>\n",
    "<li>People with government job and provate job have 5.02% and 5.09% of stroke chance respectively.</li>"
   ]
  },
  {
   "cell_type": "markdown",
   "metadata": {
    "id": "WbKOom5rn4ak"
   },
   "source": [
    "#### smoking_status vs stroke"
   ]
  },
  {
   "cell_type": "code",
   "execution_count": null,
   "metadata": {
    "id": "oIJW1BK8n4ak"
   },
   "outputs": [
    {
     "ename": "",
     "evalue": "",
     "output_type": "error",
     "traceback": [
      "\u001b[1;31mFailed to start the Kernel. \n",
      "\u001b[1;31mUnable to start Kernel 'Python 3.10.12' due to a timeout waiting for the ports to get used. \n",
      "\u001b[1;31mView Jupyter <a href='command:jupyter.viewOutput'>log</a> for further details."
     ]
    }
   ],
   "source": [
    "##  bivariate plot for \"smoking_status\" field\n",
    "\n",
    "bivariate_barplot(data=df, xlabel=\"smoking_status\")\n"
   ]
  },
  {
   "cell_type": "code",
   "execution_count": null,
   "metadata": {
    "id": "b9vFcVqIn4al"
   },
   "outputs": [
    {
     "ename": "",
     "evalue": "",
     "output_type": "error",
     "traceback": [
      "\u001b[1;31mFailed to start the Kernel. \n",
      "\u001b[1;31mUnable to start Kernel 'Python 3.10.12' due to a timeout waiting for the ports to get used. \n",
      "\u001b[1;31mView Jupyter <a href='command:jupyter.viewOutput'>log</a> for further details."
     ]
    }
   ],
   "source": [
    "##  the impact of \"smoking_status\" on our target variable\n",
    "\n",
    "calculate_feature_impact_probability(data=df, feature=\"smoking_status\")\n"
   ]
  },
  {
   "cell_type": "markdown",
   "metadata": {
    "id": "Bph_68pHNpvL"
   },
   "source": [
    "<li>Formerly smoked persons have higher chance of stroke that is 7.91% while never smoked person have less chance of stroke which is 3.85%.</li>\n",
    "<li>Similarly, People who smoke now have 5.3% chance of stroke and people who are unknown have 4.28% chance of stroke.</li>"
   ]
  },
  {
   "cell_type": "markdown",
   "metadata": {
    "id": "O0DTZ2Kzn4al"
   },
   "source": [
    "#### hypertension vs stroke"
   ]
  },
  {
   "cell_type": "code",
   "execution_count": null,
   "metadata": {
    "id": "ND_soNDRn4al"
   },
   "outputs": [
    {
     "ename": "",
     "evalue": "",
     "output_type": "error",
     "traceback": [
      "\u001b[1;31mFailed to start the Kernel. \n",
      "\u001b[1;31mUnable to start Kernel 'Python 3.10.12' due to a timeout waiting for the ports to get used. \n",
      "\u001b[1;31mView Jupyter <a href='command:jupyter.viewOutput'>log</a> for further details."
     ]
    }
   ],
   "source": [
    "##  bivariate plot for \"hypertension\" field\n",
    "\n",
    "bivariate_barplot(data=df, xlabel=\"hypertension\")\n"
   ]
  },
  {
   "cell_type": "code",
   "execution_count": null,
   "metadata": {
    "id": "h01xeTKln4al"
   },
   "outputs": [
    {
     "ename": "",
     "evalue": "",
     "output_type": "error",
     "traceback": [
      "\u001b[1;31mFailed to start the Kernel. \n",
      "\u001b[1;31mUnable to start Kernel 'Python 3.10.12' due to a timeout waiting for the ports to get used. \n",
      "\u001b[1;31mView Jupyter <a href='command:jupyter.viewOutput'>log</a> for further details."
     ]
    }
   ],
   "source": [
    "## the impact of \"hypertension\" on our target variable\n",
    "\n",
    "calculate_feature_impact_probability(data=df, feature=\"hypertension\")\n"
   ]
  },
  {
   "cell_type": "markdown",
   "metadata": {
    "id": "G64Zit02iAp3"
   },
   "source": [
    "<li>People with hypertension have 13.25% probability of stroke.</li>\n",
    "<li>People without hypertension have only 3.96% chance of stroke.</li>"
   ]
  },
  {
   "cell_type": "markdown",
   "metadata": {
    "id": "gTGcHWLWn4am"
   },
   "source": [
    "#### heart_disease vs stroke"
   ]
  },
  {
   "cell_type": "code",
   "execution_count": null,
   "metadata": {
    "id": "VgdHkwGCn4am"
   },
   "outputs": [
    {
     "ename": "",
     "evalue": "",
     "output_type": "error",
     "traceback": [
      "\u001b[1;31mFailed to start the Kernel. \n",
      "\u001b[1;31mUnable to start Kernel 'Python 3.10.12' due to a timeout waiting for the ports to get used. \n",
      "\u001b[1;31mView Jupyter <a href='command:jupyter.viewOutput'>log</a> for further details."
     ]
    }
   ],
   "source": [
    "##  bivariate plot for \"heart_disease\" field\n",
    "\n",
    "bivariate_barplot(data=df, xlabel=\"heart_disease\")\n"
   ]
  },
  {
   "cell_type": "code",
   "execution_count": null,
   "metadata": {
    "id": "mdW_6g78n4am"
   },
   "outputs": [
    {
     "ename": "",
     "evalue": "",
     "output_type": "error",
     "traceback": [
      "\u001b[1;31mFailed to start the Kernel. \n",
      "\u001b[1;31mUnable to start Kernel 'Python 3.10.12' due to a timeout waiting for the ports to get used. \n",
      "\u001b[1;31mView Jupyter <a href='command:jupyter.viewOutput'>log</a> for further details."
     ]
    }
   ],
   "source": [
    "##  impact of \"heart_disease\" on our target variable\n",
    "\n",
    "calculate_feature_impact_probability(data=df, feature=\"heart_disease\")\n"
   ]
  },
  {
   "cell_type": "code",
   "execution_count": null,
   "metadata": {
    "id": "qeQNJJ4Jn4an"
   },
   "outputs": [
    {
     "ename": "",
     "evalue": "",
     "output_type": "error",
     "traceback": [
      "\u001b[1;31mFailed to start the Kernel. \n",
      "\u001b[1;31mUnable to start Kernel 'Python 3.10.12' due to a timeout waiting for the ports to get used. \n",
      "\u001b[1;31mView Jupyter <a href='command:jupyter.viewOutput'>log</a> for further details."
     ]
    }
   ],
   "source": [
    "df[numerical_features].corr()"
   ]
  },
  {
   "cell_type": "markdown",
   "metadata": {
    "id": "cLB08HENaKUH"
   },
   "source": [
    "<li>From the above information no any features are highly correlated with each other.</li>\n",
    "<li>Correlation of age with avg_glucose_level and bmi is 0.238 and 0.194 respectively.</li>\n",
    "<li>Correlation of bmi with avg_glucose_level is 0.12.</li>\n",
    "<li>Correlation with self is obviously 1.</li>"
   ]
  },
  {
   "cell_type": "markdown",
   "metadata": {
    "id": "jvD3oXCcn4an"
   },
   "source": [
    "Let's see the correlation of numerical variables with the target variable"
   ]
  },
  {
   "cell_type": "code",
   "execution_count": null,
   "metadata": {
    "id": "cFKtyFyUn4an"
   },
   "outputs": [
    {
     "ename": "",
     "evalue": "",
     "output_type": "error",
     "traceback": [
      "\u001b[1;31mFailed to start the Kernel. \n",
      "\u001b[1;31mUnable to start Kernel 'Python 3.10.12' due to a timeout waiting for the ports to get used. \n",
      "\u001b[1;31mView Jupyter <a href='command:jupyter.viewOutput'>log</a> for further details."
     ]
    }
   ],
   "source": [
    "df[numerical_features + [target_variable]].corr()\n",
    "# target_variable"
   ]
  },
  {
   "cell_type": "markdown",
   "metadata": {
    "id": "5WHdGwaUn4ao"
   },
   "source": [
    "<li>From above data we can see that age is highly correlated with stroke which is 0.24 than avg_glucose_level and bmi.</li>\n",
    "<li>Age has a greater influence on stroke risk than average glucose levels and BMI.\n",
    "\n",
    "\n",
    "</li>"
   ]
  },
  {
   "cell_type": "markdown",
   "metadata": {
    "id": "3klcwFhCn4ao"
   },
   "source": [
    "Let's finally see the scatter plots by defining a reusable function"
   ]
  },
  {
   "cell_type": "code",
   "execution_count": null,
   "metadata": {
    "id": "Ql-MXTGbn4ao"
   },
   "outputs": [
    {
     "ename": "",
     "evalue": "",
     "output_type": "error",
     "traceback": [
      "\u001b[1;31mFailed to start the Kernel. \n",
      "\u001b[1;31mUnable to start Kernel 'Python 3.10.12' due to a timeout waiting for the ports to get used. \n",
      "\u001b[1;31mView Jupyter <a href='command:jupyter.viewOutput'>log</a> for further details."
     ]
    }
   ],
   "source": [
    "def scatter_plot(data, x, y, label=\"stroke\"):\n",
    "    data.sort_values(label).plot.scatter(\n",
    "        x=x,\n",
    "        y=y,\n",
    "        c=label,\n",
    "        colormap=sns.color_palette(\"flare\", as_cmap=True),\n",
    "        figsize=(10, 10),\n",
    "    )"
   ]
  },
  {
   "cell_type": "markdown",
   "metadata": {
    "id": "XNbBHEXIn4ao"
   },
   "source": [
    "#### age vs bmi"
   ]
  },
  {
   "cell_type": "code",
   "execution_count": null,
   "metadata": {
    "id": "OByNbVzOn4ao"
   },
   "outputs": [
    {
     "ename": "",
     "evalue": "",
     "output_type": "error",
     "traceback": [
      "\u001b[1;31mFailed to start the Kernel. \n",
      "\u001b[1;31mUnable to start Kernel 'Python 3.10.12' due to a timeout waiting for the ports to get used. \n",
      "\u001b[1;31mView Jupyter <a href='command:jupyter.viewOutput'>log</a> for further details."
     ]
    }
   ],
   "source": [
    "scatter_plot(data=df, x=\"age\", y=\"bmi\")"
   ]
  },
  {
   "cell_type": "markdown",
   "metadata": {
    "id": "oh2re_pJXIDq"
   },
   "source": [
    "<li>According to the above diagram, it can be seen that as age increases stroke also increases. It means there is positive correlation between age and stroke.</li>\n",
    "<li>There is no such relation between bmi and stroke. BMI of must people found between 20 and 40.</li>"
   ]
  },
  {
   "cell_type": "markdown",
   "metadata": {
    "id": "vzjPEloAn4ao"
   },
   "source": [
    "#### age vs avg_glucose_level"
   ]
  },
  {
   "cell_type": "code",
   "execution_count": null,
   "metadata": {
    "id": "guPbygisn4ao"
   },
   "outputs": [
    {
     "ename": "",
     "evalue": "",
     "output_type": "error",
     "traceback": [
      "\u001b[1;31mFailed to start the Kernel. \n",
      "\u001b[1;31mUnable to start Kernel 'Python 3.10.12' due to a timeout waiting for the ports to get used. \n",
      "\u001b[1;31mView Jupyter <a href='command:jupyter.viewOutput'>log</a> for further details."
     ]
    }
   ],
   "source": [
    "##  the scatter plot of \"age\" vs \"avg_glucose_level\" on our target variable\n",
    "\n",
    "scatter_plot(data=df, x=\"age\", y=\"avg_glucose_level\")\n"
   ]
  },
  {
   "cell_type": "markdown",
   "metadata": {
    "id": "P2DJzNwPYJuG"
   },
   "source": [
    "<li>From above scatterplot, we can see that age above 60 have higher chance of stroke.</li>\n",
    "<li>People whose bmi is between 50 to 120 and  200 to 250 and age is greater than 60 have higher stroke occurance.</li>"
   ]
  },
  {
   "cell_type": "markdown",
   "metadata": {
    "id": "LU7jX0EYn4ap"
   },
   "source": [
    "#### bmi vs avg_glucose_level"
   ]
  },
  {
   "cell_type": "code",
   "execution_count": null,
   "metadata": {
    "id": "MoahvFQ0n4ap"
   },
   "outputs": [
    {
     "ename": "",
     "evalue": "",
     "output_type": "error",
     "traceback": [
      "\u001b[1;31mFailed to start the Kernel. \n",
      "\u001b[1;31mUnable to start Kernel 'Python 3.10.12' due to a timeout waiting for the ports to get used. \n",
      "\u001b[1;31mView Jupyter <a href='command:jupyter.viewOutput'>log</a> for further details."
     ]
    }
   ],
   "source": [
    "## scatter plot of \"avg_glucose_level\" vs \"bmi\" on our target variable\n",
    "\n",
    "scatter_plot(data=df, x=\"bmi\", y=\"avg_glucose_level\")\n"
   ]
  },
  {
   "cell_type": "markdown",
   "metadata": {
    "id": "I6Y2dkgpn4ap"
   },
   "source": [
    "<li>According to above diagram, people with 20-40 bmi and average glucose level of 50-120 and 200-250 have more stroke.</li>"
   ]
  },
  {
   "cell_type": "markdown",
   "metadata": {
    "id": "fzEZW63Hn4ap"
   },
   "source": [
    "# Data Preparation and Feature Engineering"
   ]
  },
  {
   "cell_type": "code",
   "execution_count": null,
   "metadata": {},
   "outputs": [
    {
     "ename": "",
     "evalue": "",
     "output_type": "error",
     "traceback": [
      "\u001b[1;31mFailed to start the Kernel. \n",
      "\u001b[1;31mUnable to start Kernel 'Python 3.10.12' due to a timeout waiting for the ports to get used. \n",
      "\u001b[1;31mView Jupyter <a href='command:jupyter.viewOutput'>log</a> for further details."
     ]
    }
   ],
   "source": [
    "df.head()"
   ]
  },
  {
   "cell_type": "code",
   "execution_count": null,
   "metadata": {
    "id": "F9NylH2rn4aq"
   },
   "outputs": [
    {
     "ename": "",
     "evalue": "",
     "output_type": "error",
     "traceback": [
      "\u001b[1;31mFailed to start the Kernel. \n",
      "\u001b[1;31mUnable to start Kernel 'Python 3.10.12' due to a timeout waiting for the ports to get used. \n",
      "\u001b[1;31mView Jupyter <a href='command:jupyter.viewOutput'>log</a> for further details."
     ]
    }
   ],
   "source": [
    "df.gender.value_counts()"
   ]
  },
  {
   "cell_type": "code",
   "execution_count": null,
   "metadata": {
    "id": "3JWerxCHn4aq"
   },
   "outputs": [
    {
     "ename": "",
     "evalue": "",
     "output_type": "error",
     "traceback": [
      "\u001b[1;31mFailed to start the Kernel. \n",
      "\u001b[1;31mUnable to start Kernel 'Python 3.10.12' due to a timeout waiting for the ports to get used. \n",
      "\u001b[1;31mView Jupyter <a href='command:jupyter.viewOutput'>log</a> for further details."
     ]
    }
   ],
   "source": [
    "df.gender.astype(\"category\").cat.codes.value_counts() \n"
   ]
  },
  {
   "cell_type": "markdown",
   "metadata": {
    "id": "GVhkD6akf0H_"
   },
   "source": []
  },
  {
   "cell_type": "code",
   "execution_count": null,
   "metadata": {
    "id": "j6-BQwrfn4aq"
   },
   "outputs": [
    {
     "ename": "",
     "evalue": "",
     "output_type": "error",
     "traceback": [
      "\u001b[1;31mFailed to start the Kernel. \n",
      "\u001b[1;31mUnable to start Kernel 'Python 3.10.12' due to a timeout waiting for the ports to get used. \n",
      "\u001b[1;31mView Jupyter <a href='command:jupyter.viewOutput'>log</a> for further details."
     ]
    }
   ],
   "source": [
    "from sklearn.preprocessing import LabelEncoder"
   ]
  },
  {
   "cell_type": "code",
   "execution_count": null,
   "metadata": {
    "id": "malj6NUSn4aq"
   },
   "outputs": [
    {
     "ename": "",
     "evalue": "",
     "output_type": "error",
     "traceback": [
      "\u001b[1;31mFailed to start the Kernel. \n",
      "\u001b[1;31mUnable to start Kernel 'Python 3.10.12' due to a timeout waiting for the ports to get used. \n",
      "\u001b[1;31mView Jupyter <a href='command:jupyter.viewOutput'>log</a> for further details."
     ]
    }
   ],
   "source": [
    "def fit_label_encoder(feature):\n",
    "    le = LabelEncoder()\n",
    "    le.fit(feature)\n",
    "    return le"
   ]
  },
  {
   "cell_type": "markdown",
   "metadata": {
    "id": "o0gnNJShn4aq"
   },
   "source": [
    "**[Term] One-Hot Encoding**\n",
    "\n",
    "One-Hot Encoding is another popular technique for treating categorical variables. It simply creates additional features based on the number of unique values in the categorical feature. Every unique value in the category will be added as a feature. **One-Hot Encoding is the process of creating dummy variables.**"
   ]
  },
  {
   "cell_type": "code",
   "execution_count": null,
   "metadata": {
    "id": "74qpzVX2n4ar"
   },
   "outputs": [
    {
     "ename": "",
     "evalue": "",
     "output_type": "error",
     "traceback": [
      "\u001b[1;31mFailed to start the Kernel. \n",
      "\u001b[1;31mUnable to start Kernel 'Python 3.10.12' due to a timeout waiting for the ports to get used. \n",
      "\u001b[1;31mView Jupyter <a href='command:jupyter.viewOutput'>log</a> for further details."
     ]
    }
   ],
   "source": [
    "pd.get_dummies(df.work_type)"
   ]
  },
  {
   "cell_type": "code",
   "execution_count": null,
   "metadata": {
    "id": "jQzHaxn1n4ar"
   },
   "outputs": [
    {
     "ename": "",
     "evalue": "",
     "output_type": "error",
     "traceback": [
      "\u001b[1;31mFailed to start the Kernel. \n",
      "\u001b[1;31mUnable to start Kernel 'Python 3.10.12' due to a timeout waiting for the ports to get used. \n",
      "\u001b[1;31mView Jupyter <a href='command:jupyter.viewOutput'>log</a> for further details."
     ]
    }
   ],
   "source": [
    "def one_hot_encoder(data, feature_name, column_to_drop=None):\n",
    "    modified_data = data.copy()\n",
    "    feature = modified_data[feature_name]\n",
    "\n",
    "    if column_to_drop is None or column_to_drop not in feature.unique():\n",
    "        # Drop the column with least number of data points\n",
    "        column_to_drop = feature.value_counts().index[-1]\n",
    "\n",
    "    dummies = pd.get_dummies(feature)\n",
    "    modified_data[dummies.columns] = dummies\n",
    "\n",
    "    return modified_data.drop([column_to_drop, feature_name], axis=1)"
   ]
  },
  {
   "cell_type": "code",
   "execution_count": null,
   "metadata": {
    "id": "_gZ10IgDn4ar"
   },
   "outputs": [
    {
     "ename": "",
     "evalue": "",
     "output_type": "error",
     "traceback": [
      "\u001b[1;31mFailed to start the Kernel. \n",
      "\u001b[1;31mUnable to start Kernel 'Python 3.10.12' due to a timeout waiting for the ports to get used. \n",
      "\u001b[1;31mView Jupyter <a href='command:jupyter.viewOutput'>log</a> for further details."
     ]
    }
   ],
   "source": [
    "feature_columns = categorical_features + numerical_features\n",
    "features = df[feature_columns].copy()\n",
    "\n",
    "gender_encoder = fit_label_encoder(feature=features.gender)\n",
    "\n",
    "features[\"gender\"] = gender_encoder.transform(features[\"gender\"])\n",
    "\n",
    "marital_status_encoder = fit_label_encoder(feature=features.ever_married)\n",
    "features[\"ever_married\"] = marital_status_encoder.transform(features[\"ever_married\"])\n",
    "\n",
    "residence_encoder = fit_label_encoder(feature=features.Residence_type)\n",
    "features[\"Residence_type\"] = residence_encoder.transform(features[\"Residence_type\"])\n",
    "\n",
    "features = one_hot_encoder(features, \"work_type\", column_to_drop=\"Never_worked\")\n",
    "features = one_hot_encoder(features, \"smoking_status\", column_to_drop=\"Unknown\")\n",
    "features.head()"
   ]
  },
  {
   "cell_type": "markdown",
   "metadata": {
    "id": "oiiMdfAEn4ar"
   },
   "source": [
    "### Data Imputation"
   ]
  },
  {
   "cell_type": "markdown",
   "metadata": {
    "id": "YgmhggZfn4as"
   },
   "source": [
    "\n",
    "In our case, the *bmi* column contains 201 missing data i.e. around 4%, so it is not suitable to drop the whole *bmi* column. Instead we need to impute the missing data with the best replacement strategy.\n",
    "\n",
    "We will use `KNNImputer` from Sklearn to imput a missing values in bmi column. Under the hood it's also a replace by mean strategy.\n",
    "\n",
    "#### KNNImputer\n",
    "\n",
    "Inorder to use KNNImputer to fill missing values, all of our dataframe values should be in numerical form, since we will compute euclidean distance to find neighbors to missing data point. So, we will be using the encoded features instead of the original data."
   ]
  },
  {
   "cell_type": "code",
   "execution_count": null,
   "metadata": {
    "id": "DHJfdKgKe00Y"
   },
   "outputs": [
    {
     "ename": "",
     "evalue": "",
     "output_type": "error",
     "traceback": [
      "\u001b[1;31mFailed to start the Kernel. \n",
      "\u001b[1;31mUnable to start Kernel 'Python 3.10.12' due to a timeout waiting for the ports to get used. \n",
      "\u001b[1;31mView Jupyter <a href='command:jupyter.viewOutput'>log</a> for further details."
     ]
    }
   ],
   "source": [
    "from sklearn.impute import KNNImputer\n",
    "\n",
    "\n",
    "imputter = KNNImputer(n_neighbors=30)\n",
    "imputted_data = imputter.fit_transform(features)\n",
    "imputted_data"
   ]
  },
  {
   "cell_type": "markdown",
   "metadata": {
    "id": "CPrYmwuzn4at"
   },
   "source": [
    "This is just a numpy array so we need to convert it back to a DataFrame"
   ]
  },
  {
   "cell_type": "code",
   "execution_count": null,
   "metadata": {
    "id": "0Le9FuTMn4at"
   },
   "outputs": [
    {
     "ename": "",
     "evalue": "",
     "output_type": "error",
     "traceback": [
      "\u001b[1;31mFailed to start the Kernel. \n",
      "\u001b[1;31mUnable to start Kernel 'Python 3.10.12' due to a timeout waiting for the ports to get used. \n",
      "\u001b[1;31mView Jupyter <a href='command:jupyter.viewOutput'>log</a> for further details."
     ]
    }
   ],
   "source": [
    "features = pd.DataFrame(data=imputted_data, columns=features.columns)\n",
    "features.info()"
   ]
  },
  {
   "cell_type": "code",
   "execution_count": null,
   "metadata": {},
   "outputs": [
    {
     "ename": "",
     "evalue": "",
     "output_type": "error",
     "traceback": [
      "\u001b[1;31mFailed to start the Kernel. \n",
      "\u001b[1;31mUnable to start Kernel 'Python 3.10.12' due to a timeout waiting for the ports to get used. \n",
      "\u001b[1;31mView Jupyter <a href='command:jupyter.viewOutput'>log</a> for further details."
     ]
    }
   ],
   "source": [
    "features.isna().sum()"
   ]
  },
  {
   "cell_type": "markdown",
   "metadata": {
    "id": "gDYQ1HOhn4at"
   },
   "source": [
    "Put the imputed data into the original dataset"
   ]
  },
  {
   "cell_type": "code",
   "execution_count": null,
   "metadata": {},
   "outputs": [
    {
     "ename": "",
     "evalue": "",
     "output_type": "error",
     "traceback": [
      "\u001b[1;31mFailed to start the Kernel. \n",
      "\u001b[1;31mUnable to start Kernel 'Python 3.10.12' due to a timeout waiting for the ports to get used. \n",
      "\u001b[1;31mView Jupyter <a href='command:jupyter.viewOutput'>log</a> for further details."
     ]
    }
   ],
   "source": [
    "features[\"bmi\"].isnull().sum()"
   ]
  },
  {
   "cell_type": "code",
   "execution_count": null,
   "metadata": {},
   "outputs": [
    {
     "ename": "",
     "evalue": "",
     "output_type": "error",
     "traceback": [
      "\u001b[1;31mFailed to start the Kernel. \n",
      "\u001b[1;31mUnable to start Kernel 'Python 3.10.12' due to a timeout waiting for the ports to get used. \n",
      "\u001b[1;31mView Jupyter <a href='command:jupyter.viewOutput'>log</a> for further details."
     ]
    }
   ],
   "source": [
    "df.head()"
   ]
  },
  {
   "cell_type": "code",
   "execution_count": null,
   "metadata": {},
   "outputs": [
    {
     "ename": "",
     "evalue": "",
     "output_type": "error",
     "traceback": [
      "\u001b[1;31mFailed to start the Kernel. \n",
      "\u001b[1;31mUnable to start Kernel 'Python 3.10.12' due to a timeout waiting for the ports to get used. \n",
      "\u001b[1;31mView Jupyter <a href='command:jupyter.viewOutput'>log</a> for further details."
     ]
    }
   ],
   "source": [
    "df[df[\"bmi\"].isnull()]"
   ]
  },
  {
   "cell_type": "code",
   "execution_count": null,
   "metadata": {
    "id": "mcWrJihxn4at"
   },
   "outputs": [
    {
     "ename": "",
     "evalue": "",
     "output_type": "error",
     "traceback": [
      "\u001b[1;31mFailed to start the Kernel. \n",
      "\u001b[1;31mUnable to start Kernel 'Python 3.10.12' due to a timeout waiting for the ports to get used. \n",
      "\u001b[1;31mView Jupyter <a href='command:jupyter.viewOutput'>log</a> for further details."
     ]
    }
   ],
   "source": [
    "df[\"bmi\"] = features[\"bmi\"]\n",
    "df[\"bmi\"].isna().sum()"
   ]
  },
  {
   "cell_type": "code",
   "execution_count": null,
   "metadata": {},
   "outputs": [
    {
     "ename": "",
     "evalue": "",
     "output_type": "error",
     "traceback": [
      "\u001b[1;31mFailed to start the Kernel. \n",
      "\u001b[1;31mUnable to start Kernel 'Python 3.10.12' due to a timeout waiting for the ports to get used. \n",
      "\u001b[1;31mView Jupyter <a href='command:jupyter.viewOutput'>log</a> for further details."
     ]
    }
   ],
   "source": [
    "features.bmi.isna().sum()"
   ]
  },
  {
   "cell_type": "code",
   "execution_count": null,
   "metadata": {},
   "outputs": [
    {
     "ename": "",
     "evalue": "",
     "output_type": "error",
     "traceback": [
      "\u001b[1;31mFailed to start the Kernel. \n",
      "\u001b[1;31mUnable to start Kernel 'Python 3.10.12' due to a timeout waiting for the ports to get used. \n",
      "\u001b[1;31mView Jupyter <a href='command:jupyter.viewOutput'>log</a> for further details."
     ]
    }
   ],
   "source": [
    "features.shape"
   ]
  },
  {
   "cell_type": "code",
   "execution_count": null,
   "metadata": {},
   "outputs": [
    {
     "ename": "",
     "evalue": "",
     "output_type": "error",
     "traceback": [
      "\u001b[1;31mFailed to start the Kernel. \n",
      "\u001b[1;31mUnable to start Kernel 'Python 3.10.12' due to a timeout waiting for the ports to get used. \n",
      "\u001b[1;31mView Jupyter <a href='command:jupyter.viewOutput'>log</a> for further details."
     ]
    }
   ],
   "source": [
    "df.shape"
   ]
  },
  {
   "cell_type": "code",
   "execution_count": null,
   "metadata": {},
   "outputs": [
    {
     "ename": "",
     "evalue": "",
     "output_type": "error",
     "traceback": [
      "\u001b[1;31mFailed to start the Kernel. \n",
      "\u001b[1;31mUnable to start Kernel 'Python 3.10.12' due to a timeout waiting for the ports to get used. \n",
      "\u001b[1;31mView Jupyter <a href='command:jupyter.viewOutput'>log</a> for further details."
     ]
    }
   ],
   "source": [
    "df.loc[df[\"bmi\"].isna()]"
   ]
  },
  {
   "cell_type": "code",
   "execution_count": null,
   "metadata": {},
   "outputs": [
    {
     "ename": "",
     "evalue": "",
     "output_type": "error",
     "traceback": [
      "\u001b[1;31mFailed to start the Kernel. \n",
      "\u001b[1;31mUnable to start Kernel 'Python 3.10.12' due to a timeout waiting for the ports to get used. \n",
      "\u001b[1;31mView Jupyter <a href='command:jupyter.viewOutput'>log</a> for further details."
     ]
    }
   ],
   "source": []
  },
  {
   "cell_type": "markdown",
   "metadata": {
    "id": "Mtwy-gp7n4ax"
   },
   "source": [
    "### Outlier Detection"
   ]
  },
  {
   "cell_type": "markdown",
   "metadata": {
    "id": "zu7H3E_On4ax"
   },
   "source": [
    "Boxplots are the best way to detect outliers in a numerical variable"
   ]
  },
  {
   "cell_type": "markdown",
   "metadata": {
    "id": "aArLLbs-n4ax"
   },
   "source": [
    "#### age"
   ]
  },
  {
   "cell_type": "code",
   "execution_count": null,
   "metadata": {
    "id": "s6vaQ8zbn4ax"
   },
   "outputs": [
    {
     "ename": "",
     "evalue": "",
     "output_type": "error",
     "traceback": [
      "\u001b[1;31mFailed to start the Kernel. \n",
      "\u001b[1;31mUnable to start Kernel 'Python 3.10.12' due to a timeout waiting for the ports to get used. \n",
      "\u001b[1;31mView Jupyter <a href='command:jupyter.viewOutput'>log</a> for further details."
     ]
    }
   ],
   "source": [
    "plt.figure(figsize=(10, 10))\n",
    "sns.boxplot(data=features.age)\n",
    "sns.stripplot(data=features.age)\n",
    "plt.show()"
   ]
  },
  {
   "cell_type": "markdown",
   "metadata": {
    "id": "9PYqymH7kqxU"
   },
   "source": [
    "<li>There is no presence of outlier in Age column.</li>"
   ]
  },
  {
   "cell_type": "markdown",
   "metadata": {
    "id": "1P_JqdBBn4ay"
   },
   "source": [
    "#### Interquartile Range (IQR)\n",
    "\n",
    "In descriptive statistics, the interquartile range is a measure of statistical dispersion, which is the spread of the data. It is defined as the difference between the 75th and 25th percentiles of the data."
   ]
  },
  {
   "cell_type": "markdown",
   "metadata": {
    "id": "RZCT6pKXn4ay"
   },
   "source": [
    "##### IQR Filter\n",
    "\n",
    "This technique uses the IQR to remove or impute outliers. The rule of thumb is that anything not in the range of (Q1 - 1.5 * IQR) and (Q3 + 1.5 * IQR) is an outlier, and can be removed or imputed."
   ]
  },
  {
   "cell_type": "markdown",
   "metadata": {
    "id": "nUp8U2Wyn4ay"
   },
   "source": [
    "Let's write a function to get the interquartile range"
   ]
  },
  {
   "cell_type": "code",
   "execution_count": null,
   "metadata": {
    "id": "_A10F_ycn4ay"
   },
   "outputs": [
    {
     "ename": "",
     "evalue": "",
     "output_type": "error",
     "traceback": [
      "\u001b[1;31mFailed to start the Kernel. \n",
      "\u001b[1;31mUnable to start Kernel 'Python 3.10.12' due to a timeout waiting for the ports to get used. \n",
      "\u001b[1;31mView Jupyter <a href='command:jupyter.viewOutput'>log</a> for further details."
     ]
    }
   ],
   "source": [
    "def get_iqr(feature):\n",
    "    quantile1, quantile3 = np.percentile(feature, [25, 75])\n",
    "    iqr_value = quantile3 - quantile1\n",
    "    lower_bound = quantile1 - 1.5 * iqr_value\n",
    "    upper_bound = quantile3 + 1.5 * iqr_value\n",
    "    return lower_bound, upper_bound"
   ]
  },
  {
   "cell_type": "markdown",
   "metadata": {
    "id": "A4RcaQhNn4ay"
   },
   "source": [
    "#### bmi"
   ]
  },
  {
   "cell_type": "code",
   "execution_count": null,
   "metadata": {
    "id": "xqF0NGSsn4ay"
   },
   "outputs": [
    {
     "ename": "",
     "evalue": "",
     "output_type": "error",
     "traceback": [
      "\u001b[1;31mFailed to start the Kernel. \n",
      "\u001b[1;31mUnable to start Kernel 'Python 3.10.12' due to a timeout waiting for the ports to get used. \n",
      "\u001b[1;31mView Jupyter <a href='command:jupyter.viewOutput'>log</a> for further details."
     ]
    }
   ],
   "source": [
    "plt.figure(figsize=(10, 10))\n",
    "sns.boxplot(data=features.bmi)\n",
    "sns.stripplot(data=features.bmi)\n",
    "plt.show()"
   ]
  },
  {
   "cell_type": "markdown",
   "metadata": {
    "id": "FCminYDglZB_"
   },
   "source": [
    "<li>From the given boxplot, we can see that there are many values that is beyond the 3 standard deviation.</li>\n",
    "\n",
    "<li>Since, the bmi column is not gaussian distributed, we have to use inter quantile range for detecting the outliers</li>"
   ]
  },
  {
   "cell_type": "markdown",
   "metadata": {
    "id": "YPcQGhPKqJ2C"
   },
   "source": [
    "<li>It is not always that outliers are not important for predictive modelling.</li>\n",
    "\n",
    "<li>In predicting minority class in a class imbalance problem, outliers can play an important role for our model.</li>\n",
    "\n",
    "<li>Since, we also have class imbalance problem in our dataset, we donot remove the outliers.</li>\n",
    "\n",
    "<li>Instead of removing it, we have to deal with it smartly.</li>\n",
    "\n",
    "<li>So we are replacing the extreme outlier values with the mean of values that are deviated from the inter quantile range.</li>"
   ]
  },
  {
   "cell_type": "code",
   "execution_count": null,
   "metadata": {
    "id": "et_DOEbvn4az"
   },
   "outputs": [
    {
     "ename": "",
     "evalue": "",
     "output_type": "error",
     "traceback": [
      "\u001b[1;31mFailed to start the Kernel. \n",
      "\u001b[1;31mUnable to start Kernel 'Python 3.10.12' due to a timeout waiting for the ports to get used. \n",
      "\u001b[1;31mView Jupyter <a href='command:jupyter.viewOutput'>log</a> for further details."
     ]
    }
   ],
   "source": [
    "lower, upper = get_iqr(features.bmi)\n",
    "outlier_condition = (features.bmi < lower) | (features.bmi > upper)\n",
    "print(lower, upper)\n",
    "# print(outlier_condition)\n",
    "features[outlier_condition] = features[outlier_condition].mean()\n",
    "features[outlier_condition]"
   ]
  },
  {
   "cell_type": "code",
   "execution_count": null,
   "metadata": {
    "id": "hWSoUoS2n4az"
   },
   "outputs": [
    {
     "ename": "",
     "evalue": "",
     "output_type": "error",
     "traceback": [
      "\u001b[1;31mFailed to start the Kernel. \n",
      "\u001b[1;31mUnable to start Kernel 'Python 3.10.12' due to a timeout waiting for the ports to get used. \n",
      "\u001b[1;31mView Jupyter <a href='command:jupyter.viewOutput'>log</a> for further details."
     ]
    }
   ],
   "source": [
    "plt.figure(figsize=(10, 10))\n",
    "sns.boxplot(data=features.bmi)\n",
    "sns.stripplot(data=features.bmi)\n",
    "plt.show()"
   ]
  },
  {
   "cell_type": "markdown",
   "metadata": {
    "id": "YPqA5lvPn4az"
   },
   "source": [
    "#### avg_glucose_level"
   ]
  },
  {
   "cell_type": "code",
   "execution_count": null,
   "metadata": {
    "id": "SEyHZJacn4az"
   },
   "outputs": [
    {
     "ename": "",
     "evalue": "",
     "output_type": "error",
     "traceback": [
      "\u001b[1;31mFailed to start the Kernel. \n",
      "\u001b[1;31mUnable to start Kernel 'Python 3.10.12' due to a timeout waiting for the ports to get used. \n",
      "\u001b[1;31mView Jupyter <a href='command:jupyter.viewOutput'>log</a> for further details."
     ]
    }
   ],
   "source": [
    "plt.figure(figsize=(10, 10))\n",
    "sns.boxplot(data=features.avg_glucose_level)\n",
    "sns.stripplot(data=features.avg_glucose_level)\n",
    "plt.show()"
   ]
  },
  {
   "cell_type": "markdown",
   "metadata": {
    "id": "Xo_Rj_2RsJRF"
   },
   "source": [
    "<li>We can see a similar outlier trend in the <i>avg_glucose_level</i></li>"
   ]
  },
  {
   "cell_type": "code",
   "execution_count": null,
   "metadata": {
    "id": "5WW_9z3rn4az"
   },
   "outputs": [
    {
     "ename": "",
     "evalue": "",
     "output_type": "error",
     "traceback": [
      "\u001b[1;31mFailed to start the Kernel. \n",
      "\u001b[1;31mUnable to start Kernel 'Python 3.10.12' due to a timeout waiting for the ports to get used. \n",
      "\u001b[1;31mView Jupyter <a href='command:jupyter.viewOutput'>log</a> for further details."
     ]
    }
   ],
   "source": [
    "lower, upper = get_iqr(features.avg_glucose_level)\n",
    "outlier_condition = (features.avg_glucose_level < lower) | (features.avg_glucose_level > upper)\n",
    "features[outlier_condition] = features[outlier_condition].mean()"
   ]
  },
  {
   "cell_type": "code",
   "execution_count": null,
   "metadata": {
    "id": "PHkwoVSkn4az"
   },
   "outputs": [
    {
     "ename": "",
     "evalue": "",
     "output_type": "error",
     "traceback": [
      "\u001b[1;31mFailed to start the Kernel. \n",
      "\u001b[1;31mUnable to start Kernel 'Python 3.10.12' due to a timeout waiting for the ports to get used. \n",
      "\u001b[1;31mView Jupyter <a href='command:jupyter.viewOutput'>log</a> for further details."
     ]
    }
   ],
   "source": [
    "plt.figure(figsize=(10, 10))\n",
    "sns.boxplot(data=features.avg_glucose_level)\n",
    "sns.stripplot(data=features.avg_glucose_level)\n",
    "plt.show()"
   ]
  },
  {
   "cell_type": "markdown",
   "metadata": {
    "id": "jmV8SSmzn4a0"
   },
   "source": [
    "### Feature Selection"
   ]
  },
  {
   "cell_type": "markdown",
   "metadata": {
    "id": "i1bFrlacn4a0"
   },
   "source": [
    "Let us now prepare training and test data.\n",
    "\n",
    "Training data and test data sets are two different but important parts in machine learning. While training data is necessary to teach an ML algorithm, testing data, as the name suggests, helps you to validate the progress of the algorithm's training and adjust or optimize it for improved results."
   ]
  },
  {
   "cell_type": "code",
   "execution_count": null,
   "metadata": {
    "id": "dVkyRD8wn4a0"
   },
   "outputs": [
    {
     "ename": "",
     "evalue": "",
     "output_type": "error",
     "traceback": [
      "\u001b[1;31mFailed to start the Kernel. \n",
      "\u001b[1;31mUnable to start Kernel 'Python 3.10.12' due to a timeout waiting for the ports to get used. \n",
      "\u001b[1;31mView Jupyter <a href='command:jupyter.viewOutput'>log</a> for further details."
     ]
    }
   ],
   "source": [
    "from sklearn.model_selection import train_test_split"
   ]
  },
  {
   "cell_type": "code",
   "execution_count": null,
   "metadata": {
    "id": "7w9fZtgAn4a0"
   },
   "outputs": [
    {
     "ename": "",
     "evalue": "",
     "output_type": "error",
     "traceback": [
      "\u001b[1;31mFailed to start the Kernel. \n",
      "\u001b[1;31mUnable to start Kernel 'Python 3.10.12' due to a timeout waiting for the ports to get used. \n",
      "\u001b[1;31mView Jupyter <a href='command:jupyter.viewOutput'>log</a> for further details."
     ]
    }
   ],
   "source": [
    "X = df[categorical_features + numerical_features].copy()\n",
    "y = df[target_variable].copy()"
   ]
  },
  {
   "cell_type": "code",
   "execution_count": null,
   "metadata": {
    "id": "xEEj7u_1s8nz"
   },
   "outputs": [
    {
     "ename": "",
     "evalue": "",
     "output_type": "error",
     "traceback": [
      "\u001b[1;31mFailed to start the Kernel. \n",
      "\u001b[1;31mUnable to start Kernel 'Python 3.10.12' due to a timeout waiting for the ports to get used. \n",
      "\u001b[1;31mView Jupyter <a href='command:jupyter.viewOutput'>log</a> for further details."
     ]
    }
   ],
   "source": [
    "X_train, X_test, y_train, y_test = train_test_split(\n",
    "    X,\n",
    "    y,\n",
    "    # To distribute each class in the train and test set evenly\n",
    "    stratify=y,\n",
    "    # Take a test size of 20%\n",
    "    test_size=0.2,\n",
    "    # Set a seed so that we can reproduce the result\n",
    "    random_state=42,\n",
    ")\n",
    "X_train.reset_index(drop=True,inplace=True)\n",
    "X_test.reset_index(drop=True,inplace=True)\n",
    "y_train.reset_index(drop=True,inplace=True)\n",
    "y_test.reset_index(drop=True,inplace=True)"
   ]
  },
  {
   "cell_type": "markdown",
   "metadata": {
    "id": "EAp6wPGen4a0"
   },
   "source": [
    "Let's check whether stratified split worked or not. To do that, we can check the percentage of data of each class in the train and test labels."
   ]
  },
  {
   "cell_type": "code",
   "execution_count": null,
   "metadata": {
    "id": "xFrtDp1pn4a0"
   },
   "outputs": [
    {
     "ename": "",
     "evalue": "",
     "output_type": "error",
     "traceback": [
      "\u001b[1;31mFailed to start the Kernel. \n",
      "\u001b[1;31mUnable to start Kernel 'Python 3.10.12' due to a timeout waiting for the ports to get used. \n",
      "\u001b[1;31mView Jupyter <a href='command:jupyter.viewOutput'>log</a> for further details."
     ]
    }
   ],
   "source": [
    "y_train_counts = y_train.value_counts()\n",
    "y_train_counts / y_train_counts.sum() * 100"
   ]
  },
  {
   "cell_type": "code",
   "execution_count": null,
   "metadata": {
    "id": "g9_kDgJEn4a0"
   },
   "outputs": [
    {
     "ename": "",
     "evalue": "",
     "output_type": "error",
     "traceback": [
      "\u001b[1;31mFailed to start the Kernel. \n",
      "\u001b[1;31mUnable to start Kernel 'Python 3.10.12' due to a timeout waiting for the ports to get used. \n",
      "\u001b[1;31mView Jupyter <a href='command:jupyter.viewOutput'>log</a> for further details."
     ]
    }
   ],
   "source": [
    "y_test_counts = y_test.value_counts()\n",
    "y_test_counts / y_test_counts.sum() * 100"
   ]
  },
  {
   "cell_type": "markdown",
   "metadata": {
    "id": "-Z7wyEOrn4a1"
   },
   "source": [
    "We can see that we have similar amount of data for each class in the train and test set"
   ]
  },
  {
   "cell_type": "markdown",
   "metadata": {
    "id": "-tj36b1Fn4a1"
   },
   "source": [
    "Now, let's generate the features for both train and test datasets"
   ]
  },
  {
   "cell_type": "code",
   "execution_count": null,
   "metadata": {
    "id": "KFGquYSbtYPA"
   },
   "outputs": [
    {
     "ename": "",
     "evalue": "",
     "output_type": "error",
     "traceback": [
      "\u001b[1;31mFailed to start the Kernel. \n",
      "\u001b[1;31mUnable to start Kernel 'Python 3.10.12' due to a timeout waiting for the ports to get used. \n",
      "\u001b[1;31mView Jupyter <a href='command:jupyter.viewOutput'>log</a> for further details."
     ]
    }
   ],
   "source": [
    "gender_encoder = fit_label_encoder(X_train[\"gender\"])\n",
    "X_train[\"gender\"] = gender_encoder.transform(X_train[\"gender\"])\n",
    "X_test[\"gender\"] = gender_encoder.transform(X_test[\"gender\"])\n",
    "\n",
    "marital_status_encoder = fit_label_encoder(X_train[\"ever_married\"])\n",
    "X_train[\"ever_married\"] = marital_status_encoder.transform(X_train[\"ever_married\"])\n",
    "X_test[\"ever_married\"] = marital_status_encoder.transform(X_test[\"ever_married\"])\n",
    "\n",
    "\n",
    "residence_location_encoder = fit_label_encoder(X_train[\"Residence_type\"])\n",
    "X_train[\"Residence_type\"] = residence_location_encoder.transform(X_train[\"Residence_type\"])\n",
    "X_test[\"Residence_type\"] = residence_location_encoder.transform(X_test[\"Residence_type\"])\n",
    "\n",
    "X_train = one_hot_encoder(X_train, \"work_type\", column_to_drop=\"Never_worked\")\n",
    "X_test = one_hot_encoder(X_test, \"work_type\", column_to_drop=\"Never_worked\")\n",
    "\n",
    "X_train = one_hot_encoder(X_train, \"smoking_status\", column_to_drop=\"Unknown\")\n",
    "X_test = one_hot_encoder(X_test, \"smoking_status\", column_to_drop=\"Unknown\")\n"
   ]
  },
  {
   "cell_type": "markdown",
   "metadata": {
    "id": "vzBHnl3mn4a1"
   },
   "source": [
    "### Feature Normalization"
   ]
  },
  {
   "cell_type": "markdown",
   "metadata": {
    "id": "D5g1E6oYn4a1"
   },
   "source": [
    "Given different input features with varying scales, feature normalization and standardization are used to guarantee that some machine learning models can work and also help to improve the model's training speed and performance."
   ]
  },
  {
   "cell_type": "code",
   "execution_count": null,
   "metadata": {
    "id": "ml9Tkauwn4a1"
   },
   "outputs": [
    {
     "ename": "",
     "evalue": "",
     "output_type": "error",
     "traceback": [
      "\u001b[1;31mFailed to start the Kernel. \n",
      "\u001b[1;31mUnable to start Kernel 'Python 3.10.12' due to a timeout waiting for the ports to get used. \n",
      "\u001b[1;31mView Jupyter <a href='command:jupyter.viewOutput'>log</a> for further details."
     ]
    }
   ],
   "source": [
    "from sklearn.preprocessing import StandardScaler"
   ]
  },
  {
   "cell_type": "code",
   "execution_count": null,
   "metadata": {
    "id": "Pw6h7Tb3w5Sx"
   },
   "outputs": [
    {
     "ename": "",
     "evalue": "",
     "output_type": "error",
     "traceback": [
      "\u001b[1;31mFailed to start the Kernel. \n",
      "\u001b[1;31mUnable to start Kernel 'Python 3.10.12' due to a timeout waiting for the ports to get used. \n",
      "\u001b[1;31mView Jupyter <a href='command:jupyter.viewOutput'>log</a> for further details."
     ]
    }
   ],
   "source": [
    "scale = StandardScaler()\n",
    "\n",
    "X_train[numerical_features] = scale.fit_transform(X_train[numerical_features])\n",
    "X_test[numerical_features] = scale.transform(X_test[numerical_features])"
   ]
  },
  {
   "cell_type": "code",
   "execution_count": null,
   "metadata": {},
   "outputs": [
    {
     "ename": "",
     "evalue": "",
     "output_type": "error",
     "traceback": [
      "\u001b[1;31mFailed to start the Kernel. \n",
      "\u001b[1;31mUnable to start Kernel 'Python 3.10.12' due to a timeout waiting for the ports to get used. \n",
      "\u001b[1;31mView Jupyter <a href='command:jupyter.viewOutput'>log</a> for further details."
     ]
    }
   ],
   "source": [
    "# X_train[\"bmi\"].isna().sum()\n",
    "# X_train.loc[X_train[\"bmi\"].isna()]"
   ]
  },
  {
   "cell_type": "markdown",
   "metadata": {
    "id": "03cmuAatn4a1"
   },
   "source": [
    "# Model Training"
   ]
  },
  {
   "cell_type": "markdown",
   "metadata": {
    "id": "spjl-beQkycw"
   },
   "source": [
    "## **Logistic Regression**\n",
    "\n",
    "\n"
   ]
  },
  {
   "cell_type": "code",
   "execution_count": null,
   "metadata": {},
   "outputs": [
    {
     "ename": "",
     "evalue": "",
     "output_type": "error",
     "traceback": [
      "\u001b[1;31mFailed to start the Kernel. \n",
      "\u001b[1;31mUnable to start Kernel 'Python 3.10.12' due to a timeout waiting for the ports to get used. \n",
      "\u001b[1;31mView Jupyter <a href='command:jupyter.viewOutput'>log</a> for further details."
     ]
    }
   ],
   "source": [
    "X_train.shape, X_test.shape, y_train.shape, y_test.shape"
   ]
  },
  {
   "cell_type": "code",
   "execution_count": null,
   "metadata": {
    "id": "kKOSXe_hWXvk"
   },
   "outputs": [
    {
     "ename": "",
     "evalue": "",
     "output_type": "error",
     "traceback": [
      "\u001b[1;31mFailed to start the Kernel. \n",
      "\u001b[1;31mUnable to start Kernel 'Python 3.10.12' due to a timeout waiting for the ports to get used. \n",
      "\u001b[1;31mView Jupyter <a href='command:jupyter.viewOutput'>log</a> for further details."
     ]
    }
   ],
   "source": [
    "from sklearn.linear_model import LogisticRegression\n",
    "clf = LogisticRegression(random_state=0)"
   ]
  },
  {
   "cell_type": "code",
   "execution_count": null,
   "metadata": {
    "id": "oT2rHDDnPWRI"
   },
   "outputs": [
    {
     "ename": "",
     "evalue": "",
     "output_type": "error",
     "traceback": [
      "\u001b[1;31mFailed to start the Kernel. \n",
      "\u001b[1;31mUnable to start Kernel 'Python 3.10.12' due to a timeout waiting for the ports to get used. \n",
      "\u001b[1;31mView Jupyter <a href='command:jupyter.viewOutput'>log</a> for further details."
     ]
    }
   ],
   "source": [
    "from sklearn.linear_model import LogisticRegression\n",
    "clf = LogisticRegression(random_state=0)\n",
    "clf.fit(X_train, y_train) # pass training data and training answer to model"
   ]
  },
  {
   "cell_type": "markdown",
   "metadata": {},
   "source": [
    "#### Model Evaluation"
   ]
  },
  {
   "cell_type": "code",
   "execution_count": null,
   "metadata": {},
   "outputs": [
    {
     "ename": "",
     "evalue": "",
     "output_type": "error",
     "traceback": [
      "\u001b[1;31mFailed to start the Kernel. \n",
      "\u001b[1;31mUnable to start Kernel 'Python 3.10.12' due to a timeout waiting for the ports to get used. \n",
      "\u001b[1;31mView Jupyter <a href='command:jupyter.viewOutput'>log</a> for further details."
     ]
    }
   ],
   "source": []
  },
  {
   "cell_type": "markdown",
   "metadata": {
    "id": "fN3-u6pRiJSb"
   },
   "source": [
    "\n",
    "* Logistic Regression\n",
    "* K-Nearest Neighbors\n",
    "* Decision Tree\n",
    "* Support Vector Machines/SVC\n",
    "* Naive Bayes"
   ]
  },
  {
   "cell_type": "code",
   "execution_count": null,
   "metadata": {},
   "outputs": [
    {
     "ename": "",
     "evalue": "",
     "output_type": "error",
     "traceback": [
      "\u001b[1;31mFailed to start the Kernel. \n",
      "\u001b[1;31mUnable to start Kernel 'Python 3.10.12' due to a timeout waiting for the ports to get used. \n",
      "\u001b[1;31mView Jupyter <a href='command:jupyter.viewOutput'>log</a> for further details."
     ]
    }
   ],
   "source": []
  }
 ],
 "metadata": {
  "colab": {
   "collapsed_sections": [
    "hMhW5LSS4pjp",
    "aM4TAmWnn4aL",
    "HCpxrMOiGJYS",
    "vnHvXn8fOlLh"
   ],
   "provenance": []
  },
  "kernelspec": {
   "display_name": "Python 3 (ipykernel)",
   "language": "python",
   "name": "python3"
  },
  "language_info": {
   "codemirror_mode": {
    "name": "ipython",
    "version": 3
   },
   "file_extension": ".py",
   "mimetype": "text/x-python",
   "name": "python",
   "nbconvert_exporter": "python",
   "pygments_lexer": "ipython3",
   "version": "3.10.12"
  },
  "vscode": {
   "interpreter": {
    "hash": "1db9252b0c60d0e6349e5c57bf19a68c333862a9d2673e2b28969c78c4e62b82"
   }
  }
 },
 "nbformat": 4,
 "nbformat_minor": 4
}
